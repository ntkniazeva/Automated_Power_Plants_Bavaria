{
 "cells": [
  {
   "cell_type": "code",
   "execution_count": 36,
   "metadata": {
    "collapsed": true,
    "ExecuteTime": {
     "end_time": "2024-12-08T22:25:15.700716300Z",
     "start_time": "2024-12-08T22:25:15.696701900Z"
    }
   },
   "outputs": [],
   "source": [
    "# Merging shapefiles with attribute preservation\n",
    "\n",
    "import geopandas as gpd\n",
    "import pandas as pd\n",
    "from shapely.geometry import Point\n",
    "from shapely.ops import nearest_points"
   ]
  },
  {
   "cell_type": "code",
   "execution_count": 37,
   "outputs": [],
   "source": [
    "# Read multiple shapefiles and combine them into a single GeoDataFrame.\n",
    "def read_and_combine_shapefiles(shapefiles):\n",
    "    gdf_list = [gpd.read_file(file) for file in shapefiles]\n",
    "    return gpd.GeoDataFrame(pd.concat(gdf_list, ignore_index=True))\n",
    "\n",
    "# Transform CRS, create buffers, and merge by buffer\n",
    "def process_geometries(gdf, tolerance):\n",
    "    # Transform CRS to EPSG:31468\n",
    "    gdf = gdf.to_crs(epsg=31468)\n",
    "    # Create buffer around points\n",
    "    gdf['buffer'] = gdf.geometry.buffer(tolerance)\n",
    "    # Merge geometries by buffer\n",
    "    merged_gdf = gdf.dissolve(by='buffer', aggfunc=lambda x: ', '.join(map(str, set(x))))\n",
    "    # Remove temporary buffer column and transform CRS back to EPSG:4326\n",
    "    return merged_gdf.reset_index().drop(columns=['buffer']).to_crs(epsg=4326)\n",
    "\n",
    "# Filter GeoDataFrame to include only records with postal codes in Bavaria.\n",
    "# def check_postal_codes_in_bavaria(gdf, bavaria_postcodes):\n",
    "#     return gdf[gdf['postal_code'].isin(bavaria_postcodes)]\n",
    "\n",
    "# Merge several shapefiles and save as a single shapefile.\"\"\"\n",
    "# def save_merged_shapefile(shapefiles, output_file, tolerance=10):\n",
    "#     combined_gdf = read_and_combine_shapefiles(shapefiles)\n",
    "#     processed_gdf = process_geometries(combined_gdf, tolerance)\n",
    "#     # Check for postal codes in Bavaria and filter the GeoDataFrame\n",
    "#     bavaria_postcodes = load_bavaria_postcodes()\n",
    "#     filtered_gdf = check_postal_codes_in_bavaria(processed_gdf, bavaria_postcodes)\n",
    "#     # Save the filtered GeoDataFrame to a shapefile\n",
    "#     filtered_gdf.to_file(output_file, driver='ESRI Shapefile')\n",
    "\n",
    "# Load Bavarian postal codes from a CSV file.\n",
    "# def load_bavaria_postcodes():\n",
    "#     df_postcodes = pd.read_csv('data/Germany_postcodes/Germany_postcodes.txt', sep='\\t', header=None)\n",
    "#     df_postcodes.columns = ['country_code', 'postal_code', 'place_name', 'admin_name1', 'admin_code1',\n",
    "#                             'admin_name2', 'admin_code2', 'admin_name3', 'admin_code3',\n",
    "#                             'latitude', 'longitude', 'accuracy']\n",
    "#     # Filter for Bavaria (admin_name1 for Bavaria - \"Bayern\")\n",
    "#     bavaria_postcodes = df_postcodes[df_postcodes['admin_name1'] == 'Bayern']\n",
    "#     # Get the list of unique postal codes\n",
    "#     return bavaria_postcodes['postal_code'].unique().tolist()"
   ],
   "metadata": {
    "collapsed": false,
    "ExecuteTime": {
     "end_time": "2024-12-08T22:25:18.137633600Z",
     "start_time": "2024-12-08T22:25:18.061222900Z"
    }
   }
  },
  {
   "cell_type": "code",
   "execution_count": 38,
   "outputs": [],
   "source": [
    "# A list of shapefiles for merging\n",
    "shapefiles = [\n",
    "    'data/sources/bundesnetzagentur_power_plants.shp',\n",
    "    'data/sources/energieatlas_biomass.shp',\n",
    "    'data/sources/energieatlas_biomethane.shp',\n",
    "    'data/sources/energieatlas_biomethane.shp',\n",
    "    'data/sources/energieatlas_geothermal.shp',\n",
    "    'data/sources/energieatlas_kwk.shp',\n",
    "    'data/sources/energieatlas_solarthermal.shp',\n",
    "    'data/sources/energieatlas_waste.shp',\n",
    "    'data/sources/OPSD_conventional_power_plants.shp',\n",
    "    'data/sources/results_osm_search.shp'\n",
    "]"
   ],
   "metadata": {
    "collapsed": false,
    "ExecuteTime": {
     "end_time": "2024-12-08T22:25:19.300665200Z",
     "start_time": "2024-12-08T22:25:19.251556100Z"
    }
   }
  },
  {
   "cell_type": "code",
   "execution_count": 39,
   "outputs": [],
   "source": [
    "# Reading and merging shapiefiles in the list in one GeoDataFrame\n",
    "gdf_list = [gpd.read_file(file) for file in shapefiles]\n",
    "combined_gdf = gpd.GeoDataFrame(pd.concat(gdf_list, ignore_index=True))"
   ],
   "metadata": {
    "collapsed": false,
    "ExecuteTime": {
     "end_time": "2024-12-08T22:25:25.981342100Z",
     "start_time": "2024-12-08T22:25:20.633381800Z"
    }
   }
  },
  {
   "cell_type": "code",
   "execution_count": 40,
   "outputs": [],
   "source": [
    "# changing crs from epsg=4326 to epsg=31468 (DHDN / 3-degree Gauss-Kruger zone 4), which is used for Germany\n",
    "# in epsg=31468 the tolerance is measured in meters, we get a circle buffer and no errors\n",
    "# in epsg=4326 the tolerance is measured in degrees, we get an ellipse and an error\n",
    "combined_gdf = combined_gdf.to_crs(epsg=31468)\n",
    "# Create a temporary buffer around points to determine the points nearby\n",
    "tolerance = 10\n",
    "combined_gdf['buffer'] = combined_gdf.geometry.buffer(tolerance)"
   ],
   "metadata": {
    "collapsed": false,
    "ExecuteTime": {
     "end_time": "2024-12-08T22:25:28.252469Z",
     "start_time": "2024-12-08T22:25:27.623400Z"
    }
   }
  },
  {
   "cell_type": "code",
   "execution_count": 41,
   "outputs": [],
   "source": [
    "# Grouping by buffer. If the buffers of some points intersect,\n",
    "# the points will be combined in one group\n",
    "# 'dissolve' method aggregates attributes keeping all of them\n",
    "aggregated_gdf = combined_gdf.dissolve(by='buffer', aggfunc=lambda x: ', '.join(map(str, set(x))))\n",
    "\n",
    "# Delete temporary column 'buffer'\n",
    "aggregated_gdf = aggregated_gdf.reset_index().drop(columns=['buffer'])\n",
    "\n",
    "#Change crs back to epsg=4326\n",
    "aggregated_gdf.to_crs(epsg=4326, inplace=True)"
   ],
   "metadata": {
    "collapsed": false,
    "ExecuteTime": {
     "end_time": "2024-12-08T22:29:25.585626700Z",
     "start_time": "2024-12-08T22:25:29.441210600Z"
    }
   }
  },
  {
   "cell_type": "code",
   "execution_count": 42,
   "outputs": [],
   "source": [
    "# aggregated_gdf = aggregated_gdf[aggregated_gdf['postcode'].isin(bavaria_postcodes)]"
   ],
   "metadata": {
    "collapsed": false,
    "ExecuteTime": {
     "end_time": "2024-12-08T22:29:25.595310400Z",
     "start_time": "2024-12-08T22:29:25.593120700Z"
    }
   }
  },
  {
   "cell_type": "code",
   "execution_count": 43,
   "outputs": [
    {
     "data": {
      "text/plain": "                   geometry MaStR-Nr. Anlagenbet Anzeige-Na Postcode City  \\\n0  POINT (9.61198 47.58005)       nan        nan        nan      nan  nan   \n1  POINT (9.60514 47.58062)       nan        nan        nan      nan  nan   \n2  POINT (9.61370 47.57187)       nan        nan        nan      nan  nan   \n3  POINT (9.64191 47.58671)       nan        nan        nan      nan  nan   \n4  POINT (9.65257 47.59067)       nan        nan        nan      nan  nan   \n\n  Street House Numb State Datum der  ... merge_comm comment generator_  \\\n0    nan        nan   nan       nan  ...        nan     nan        nan   \n1    nan        nan   nan       nan  ...        nan     nan        nan   \n2    nan        nan   nan       nan  ...        nan     nan        nan   \n3    nan        nan   nan       nan  ...        nan     nan        nan   \n4    nan        nan   nan       nan  ...        nan     nan        nan   \n\n  plant_outp generato_1 generato_2 generato_3 plant_ou_1 plant_ou_2 plant_ou_3  \n0        nan        nan        nan        nan        nan        nan        nan  \n1        nan        nan        nan        nan        nan        nan        nan  \n2        nan        nan        nan        nan        nan        nan        nan  \n3        nan        nan        nan        nan        nan        nan        nan  \n4        nan        nan        nan        nan        nan        nan        nan  \n\n[5 rows x 114 columns]",
      "text/html": "<div>\n<style scoped>\n    .dataframe tbody tr th:only-of-type {\n        vertical-align: middle;\n    }\n\n    .dataframe tbody tr th {\n        vertical-align: top;\n    }\n\n    .dataframe thead th {\n        text-align: right;\n    }\n</style>\n<table border=\"1\" class=\"dataframe\">\n  <thead>\n    <tr style=\"text-align: right;\">\n      <th></th>\n      <th>geometry</th>\n      <th>MaStR-Nr.</th>\n      <th>Anlagenbet</th>\n      <th>Anzeige-Na</th>\n      <th>Postcode</th>\n      <th>City</th>\n      <th>Street</th>\n      <th>House Numb</th>\n      <th>State</th>\n      <th>Datum der</th>\n      <th>...</th>\n      <th>merge_comm</th>\n      <th>comment</th>\n      <th>generator_</th>\n      <th>plant_outp</th>\n      <th>generato_1</th>\n      <th>generato_2</th>\n      <th>generato_3</th>\n      <th>plant_ou_1</th>\n      <th>plant_ou_2</th>\n      <th>plant_ou_3</th>\n    </tr>\n  </thead>\n  <tbody>\n    <tr>\n      <th>0</th>\n      <td>POINT (9.61198 47.58005)</td>\n      <td>nan</td>\n      <td>nan</td>\n      <td>nan</td>\n      <td>nan</td>\n      <td>nan</td>\n      <td>nan</td>\n      <td>nan</td>\n      <td>nan</td>\n      <td>nan</td>\n      <td>...</td>\n      <td>nan</td>\n      <td>nan</td>\n      <td>nan</td>\n      <td>nan</td>\n      <td>nan</td>\n      <td>nan</td>\n      <td>nan</td>\n      <td>nan</td>\n      <td>nan</td>\n      <td>nan</td>\n    </tr>\n    <tr>\n      <th>1</th>\n      <td>POINT (9.60514 47.58062)</td>\n      <td>nan</td>\n      <td>nan</td>\n      <td>nan</td>\n      <td>nan</td>\n      <td>nan</td>\n      <td>nan</td>\n      <td>nan</td>\n      <td>nan</td>\n      <td>nan</td>\n      <td>...</td>\n      <td>nan</td>\n      <td>nan</td>\n      <td>nan</td>\n      <td>nan</td>\n      <td>nan</td>\n      <td>nan</td>\n      <td>nan</td>\n      <td>nan</td>\n      <td>nan</td>\n      <td>nan</td>\n    </tr>\n    <tr>\n      <th>2</th>\n      <td>POINT (9.61370 47.57187)</td>\n      <td>nan</td>\n      <td>nan</td>\n      <td>nan</td>\n      <td>nan</td>\n      <td>nan</td>\n      <td>nan</td>\n      <td>nan</td>\n      <td>nan</td>\n      <td>nan</td>\n      <td>...</td>\n      <td>nan</td>\n      <td>nan</td>\n      <td>nan</td>\n      <td>nan</td>\n      <td>nan</td>\n      <td>nan</td>\n      <td>nan</td>\n      <td>nan</td>\n      <td>nan</td>\n      <td>nan</td>\n    </tr>\n    <tr>\n      <th>3</th>\n      <td>POINT (9.64191 47.58671)</td>\n      <td>nan</td>\n      <td>nan</td>\n      <td>nan</td>\n      <td>nan</td>\n      <td>nan</td>\n      <td>nan</td>\n      <td>nan</td>\n      <td>nan</td>\n      <td>nan</td>\n      <td>...</td>\n      <td>nan</td>\n      <td>nan</td>\n      <td>nan</td>\n      <td>nan</td>\n      <td>nan</td>\n      <td>nan</td>\n      <td>nan</td>\n      <td>nan</td>\n      <td>nan</td>\n      <td>nan</td>\n    </tr>\n    <tr>\n      <th>4</th>\n      <td>POINT (9.65257 47.59067)</td>\n      <td>nan</td>\n      <td>nan</td>\n      <td>nan</td>\n      <td>nan</td>\n      <td>nan</td>\n      <td>nan</td>\n      <td>nan</td>\n      <td>nan</td>\n      <td>nan</td>\n      <td>...</td>\n      <td>nan</td>\n      <td>nan</td>\n      <td>nan</td>\n      <td>nan</td>\n      <td>nan</td>\n      <td>nan</td>\n      <td>nan</td>\n      <td>nan</td>\n      <td>nan</td>\n      <td>nan</td>\n    </tr>\n  </tbody>\n</table>\n<p>5 rows × 114 columns</p>\n</div>"
     },
     "execution_count": 43,
     "metadata": {},
     "output_type": "execute_result"
    }
   ],
   "source": [
    "aggregated_gdf.head()"
   ],
   "metadata": {
    "collapsed": false,
    "ExecuteTime": {
     "end_time": "2024-12-08T22:29:25.644119500Z",
     "start_time": "2024-12-08T22:29:25.606104900Z"
    }
   }
  },
  {
   "cell_type": "code",
   "execution_count": 44,
   "outputs": [],
   "source": [
    "# Name an output file as 'combined_sources.shp'\n",
    "output_file = 'data/combined_sources/combined_sources.shp'\n",
    "aggregated_gdf.to_file(output_file, driver='ESRI Shapefile')"
   ],
   "metadata": {
    "collapsed": false,
    "ExecuteTime": {
     "end_time": "2024-12-08T22:29:53.445536900Z",
     "start_time": "2024-12-08T22:29:25.647327800Z"
    }
   }
  },
  {
   "cell_type": "markdown",
   "source": [
    "Postcodes check"
   ],
   "metadata": {
    "collapsed": false
   }
  },
  {
   "cell_type": "markdown",
   "source": [
    "bayern_postcodes_overpass_turbo.geojson"
   ],
   "metadata": {
    "collapsed": false
   }
  },
  {
   "cell_type": "code",
   "execution_count": 45,
   "outputs": [],
   "source": [
    "combined_sources = gpd.read_file('data/combined_sources/combined_sources.shp')\n",
    "bayern_postcodes_overpass_turbo = gpd.read_file('data/bayern_postcodes_overpass_turbo.geojson')"
   ],
   "metadata": {
    "collapsed": false,
    "ExecuteTime": {
     "end_time": "2024-12-08T22:31:08.171765400Z",
     "start_time": "2024-12-08T22:29:53.454911100Z"
    }
   }
  },
  {
   "cell_type": "code",
   "execution_count": 46,
   "outputs": [
    {
     "data": {
      "text/plain": "                id              @id TMC:cid_58:tabcd_1:Class     boundary  \\\n0  relation/387540  relation/387540                     None  postal_code   \n1  relation/534826  relation/534826                     None  postal_code   \n2  relation/534828  relation/534828                     None  postal_code   \n3  relation/534829  relation/534829                     None  postal_code   \n4  relation/534847  relation/534847                     None  postal_code   \n\n  fixme  name name:sk                 note postal_code postal_code_level  \\\n0  None  None    None  63869 Heigenbrücken       63869                 8   \n1  None  None    None     63856 Bessenbach       63856                 8   \n2  None  None    None       63874 Dammbach       63874                 8   \n3  None  None    None     63826 Geiselbach       63826                 8   \n4  None  None    None      63864 Glattbach       63864                 8   \n\n    ref service source      type wikidata  \\\n0  None    None   None  boundary     None   \n1  None    None   None  boundary     None   \n2  None    None   None  boundary     None   \n3  None    None   None  boundary     None   \n4  None    None   None  boundary     None   \n\n                                            geometry  \n0  POLYGON ((9.39894 50.01473, 9.39839 50.01475, ...  \n1  POLYGON ((9.24700 49.92629, 9.24736 49.92670, ...  \n2  POLYGON ((9.28832 49.86678, 9.28812 49.86670, ...  \n3  POLYGON ((9.17480 50.11408, 9.17463 50.11411, ...  \n4  POLYGON ((9.12653 50.01416, 9.12693 50.01370, ...  ",
      "text/html": "<div>\n<style scoped>\n    .dataframe tbody tr th:only-of-type {\n        vertical-align: middle;\n    }\n\n    .dataframe tbody tr th {\n        vertical-align: top;\n    }\n\n    .dataframe thead th {\n        text-align: right;\n    }\n</style>\n<table border=\"1\" class=\"dataframe\">\n  <thead>\n    <tr style=\"text-align: right;\">\n      <th></th>\n      <th>id</th>\n      <th>@id</th>\n      <th>TMC:cid_58:tabcd_1:Class</th>\n      <th>boundary</th>\n      <th>fixme</th>\n      <th>name</th>\n      <th>name:sk</th>\n      <th>note</th>\n      <th>postal_code</th>\n      <th>postal_code_level</th>\n      <th>ref</th>\n      <th>service</th>\n      <th>source</th>\n      <th>type</th>\n      <th>wikidata</th>\n      <th>geometry</th>\n    </tr>\n  </thead>\n  <tbody>\n    <tr>\n      <th>0</th>\n      <td>relation/387540</td>\n      <td>relation/387540</td>\n      <td>None</td>\n      <td>postal_code</td>\n      <td>None</td>\n      <td>None</td>\n      <td>None</td>\n      <td>63869 Heigenbrücken</td>\n      <td>63869</td>\n      <td>8</td>\n      <td>None</td>\n      <td>None</td>\n      <td>None</td>\n      <td>boundary</td>\n      <td>None</td>\n      <td>POLYGON ((9.39894 50.01473, 9.39839 50.01475, ...</td>\n    </tr>\n    <tr>\n      <th>1</th>\n      <td>relation/534826</td>\n      <td>relation/534826</td>\n      <td>None</td>\n      <td>postal_code</td>\n      <td>None</td>\n      <td>None</td>\n      <td>None</td>\n      <td>63856 Bessenbach</td>\n      <td>63856</td>\n      <td>8</td>\n      <td>None</td>\n      <td>None</td>\n      <td>None</td>\n      <td>boundary</td>\n      <td>None</td>\n      <td>POLYGON ((9.24700 49.92629, 9.24736 49.92670, ...</td>\n    </tr>\n    <tr>\n      <th>2</th>\n      <td>relation/534828</td>\n      <td>relation/534828</td>\n      <td>None</td>\n      <td>postal_code</td>\n      <td>None</td>\n      <td>None</td>\n      <td>None</td>\n      <td>63874 Dammbach</td>\n      <td>63874</td>\n      <td>8</td>\n      <td>None</td>\n      <td>None</td>\n      <td>None</td>\n      <td>boundary</td>\n      <td>None</td>\n      <td>POLYGON ((9.28832 49.86678, 9.28812 49.86670, ...</td>\n    </tr>\n    <tr>\n      <th>3</th>\n      <td>relation/534829</td>\n      <td>relation/534829</td>\n      <td>None</td>\n      <td>postal_code</td>\n      <td>None</td>\n      <td>None</td>\n      <td>None</td>\n      <td>63826 Geiselbach</td>\n      <td>63826</td>\n      <td>8</td>\n      <td>None</td>\n      <td>None</td>\n      <td>None</td>\n      <td>boundary</td>\n      <td>None</td>\n      <td>POLYGON ((9.17480 50.11408, 9.17463 50.11411, ...</td>\n    </tr>\n    <tr>\n      <th>4</th>\n      <td>relation/534847</td>\n      <td>relation/534847</td>\n      <td>None</td>\n      <td>postal_code</td>\n      <td>None</td>\n      <td>None</td>\n      <td>None</td>\n      <td>63864 Glattbach</td>\n      <td>63864</td>\n      <td>8</td>\n      <td>None</td>\n      <td>None</td>\n      <td>None</td>\n      <td>boundary</td>\n      <td>None</td>\n      <td>POLYGON ((9.12653 50.01416, 9.12693 50.01370, ...</td>\n    </tr>\n  </tbody>\n</table>\n</div>"
     },
     "execution_count": 46,
     "metadata": {},
     "output_type": "execute_result"
    }
   ],
   "source": [
    "bayern_postcodes_overpass_turbo.head()"
   ],
   "metadata": {
    "collapsed": false,
    "ExecuteTime": {
     "end_time": "2024-12-08T22:31:08.218249600Z",
     "start_time": "2024-12-08T22:31:08.209505800Z"
    }
   }
  },
  {
   "cell_type": "code",
   "execution_count": 47,
   "outputs": [
    {
     "data": {
      "text/plain": "  MaStR-Nr. Anlagenbet Anzeige-Na Postcode City Street House Numb State  \\\n0       nan        nan        nan      nan  nan    nan        nan   nan   \n1       nan        nan        nan      nan  nan    nan        nan   nan   \n2       nan        nan        nan      nan  nan    nan        nan   nan   \n3       nan        nan        nan      nan  nan    nan        nan   nan   \n4       nan        nan        nan      nan  nan    nan        nan   nan   \n\n  Datum der Jahr der I  ...  name name:sk                         note  \\\n0       nan        nan  ...  None    None             88149 Nonnenhorn   \n1       nan        nan  ...  None    None             88149 Nonnenhorn   \n2       nan        nan  ...  None    None             88149 Nonnenhorn   \n3       nan        nan  ...  None    None  88142 Wasserburg (Bodensee)   \n4       nan        nan  ...  None    None      88131 Lindau (Bodensee)   \n\n  postal_code postal_code_level   ref service  \\\n0       88149                 8  None    None   \n1       88149                 8  None    None   \n2       88149                 8  None    None   \n3       88142                 8  None    None   \n4       88131                 8  None    None   \n\n                                              source type_right wikidata  \n0  http://wiki.openstreetmap.org/wiki/Import/Cata...   boundary     None  \n1  http://wiki.openstreetmap.org/wiki/Import/Cata...   boundary     None  \n2  http://wiki.openstreetmap.org/wiki/Import/Cata...   boundary     None  \n3  http://wiki.openstreetmap.org/wiki/Import/Cata...   boundary     None  \n4  http://wiki.openstreetmap.org/wiki/Import/Cata...   boundary     None  \n\n[5 rows x 130 columns]",
      "text/html": "<div>\n<style scoped>\n    .dataframe tbody tr th:only-of-type {\n        vertical-align: middle;\n    }\n\n    .dataframe tbody tr th {\n        vertical-align: top;\n    }\n\n    .dataframe thead th {\n        text-align: right;\n    }\n</style>\n<table border=\"1\" class=\"dataframe\">\n  <thead>\n    <tr style=\"text-align: right;\">\n      <th></th>\n      <th>MaStR-Nr.</th>\n      <th>Anlagenbet</th>\n      <th>Anzeige-Na</th>\n      <th>Postcode</th>\n      <th>City</th>\n      <th>Street</th>\n      <th>House Numb</th>\n      <th>State</th>\n      <th>Datum der</th>\n      <th>Jahr der I</th>\n      <th>...</th>\n      <th>name</th>\n      <th>name:sk</th>\n      <th>note</th>\n      <th>postal_code</th>\n      <th>postal_code_level</th>\n      <th>ref</th>\n      <th>service</th>\n      <th>source</th>\n      <th>type_right</th>\n      <th>wikidata</th>\n    </tr>\n  </thead>\n  <tbody>\n    <tr>\n      <th>0</th>\n      <td>nan</td>\n      <td>nan</td>\n      <td>nan</td>\n      <td>nan</td>\n      <td>nan</td>\n      <td>nan</td>\n      <td>nan</td>\n      <td>nan</td>\n      <td>nan</td>\n      <td>nan</td>\n      <td>...</td>\n      <td>None</td>\n      <td>None</td>\n      <td>88149 Nonnenhorn</td>\n      <td>88149</td>\n      <td>8</td>\n      <td>None</td>\n      <td>None</td>\n      <td>http://wiki.openstreetmap.org/wiki/Import/Cata...</td>\n      <td>boundary</td>\n      <td>None</td>\n    </tr>\n    <tr>\n      <th>1</th>\n      <td>nan</td>\n      <td>nan</td>\n      <td>nan</td>\n      <td>nan</td>\n      <td>nan</td>\n      <td>nan</td>\n      <td>nan</td>\n      <td>nan</td>\n      <td>nan</td>\n      <td>nan</td>\n      <td>...</td>\n      <td>None</td>\n      <td>None</td>\n      <td>88149 Nonnenhorn</td>\n      <td>88149</td>\n      <td>8</td>\n      <td>None</td>\n      <td>None</td>\n      <td>http://wiki.openstreetmap.org/wiki/Import/Cata...</td>\n      <td>boundary</td>\n      <td>None</td>\n    </tr>\n    <tr>\n      <th>2</th>\n      <td>nan</td>\n      <td>nan</td>\n      <td>nan</td>\n      <td>nan</td>\n      <td>nan</td>\n      <td>nan</td>\n      <td>nan</td>\n      <td>nan</td>\n      <td>nan</td>\n      <td>nan</td>\n      <td>...</td>\n      <td>None</td>\n      <td>None</td>\n      <td>88149 Nonnenhorn</td>\n      <td>88149</td>\n      <td>8</td>\n      <td>None</td>\n      <td>None</td>\n      <td>http://wiki.openstreetmap.org/wiki/Import/Cata...</td>\n      <td>boundary</td>\n      <td>None</td>\n    </tr>\n    <tr>\n      <th>3</th>\n      <td>nan</td>\n      <td>nan</td>\n      <td>nan</td>\n      <td>nan</td>\n      <td>nan</td>\n      <td>nan</td>\n      <td>nan</td>\n      <td>nan</td>\n      <td>nan</td>\n      <td>nan</td>\n      <td>...</td>\n      <td>None</td>\n      <td>None</td>\n      <td>88142 Wasserburg (Bodensee)</td>\n      <td>88142</td>\n      <td>8</td>\n      <td>None</td>\n      <td>None</td>\n      <td>http://wiki.openstreetmap.org/wiki/Import/Cata...</td>\n      <td>boundary</td>\n      <td>None</td>\n    </tr>\n    <tr>\n      <th>4</th>\n      <td>nan</td>\n      <td>nan</td>\n      <td>nan</td>\n      <td>nan</td>\n      <td>nan</td>\n      <td>nan</td>\n      <td>nan</td>\n      <td>nan</td>\n      <td>nan</td>\n      <td>nan</td>\n      <td>...</td>\n      <td>None</td>\n      <td>None</td>\n      <td>88131 Lindau (Bodensee)</td>\n      <td>88131</td>\n      <td>8</td>\n      <td>None</td>\n      <td>None</td>\n      <td>http://wiki.openstreetmap.org/wiki/Import/Cata...</td>\n      <td>boundary</td>\n      <td>None</td>\n    </tr>\n  </tbody>\n</table>\n<p>5 rows × 130 columns</p>\n</div>"
     },
     "execution_count": 47,
     "metadata": {},
     "output_type": "execute_result"
    }
   ],
   "source": [
    "aggregated_gdf_with_postcodes = gpd.sjoin(combined_sources, bayern_postcodes_overpass_turbo, how='left')\n",
    "aggregated_gdf_with_postcodes.head()"
   ],
   "metadata": {
    "collapsed": false,
    "ExecuteTime": {
     "end_time": "2024-12-08T22:31:09.311496900Z",
     "start_time": "2024-12-08T22:31:08.224381900Z"
    }
   }
  },
  {
   "cell_type": "code",
   "execution_count": 48,
   "outputs": [
    {
     "data": {
      "text/plain": "                                               MaStR-Nr.  \\\n151    SEE907294548426, SEE922767690112, SEE918933000...   \n3612                                                 nan   \n9445                                                 nan   \n9446                                                 nan   \n11947                                                nan   \n\n                                              Anlagenbet  \\\n151    EEG-Anlagen < 10 MW, VERBUND Energy4Business G...   \n3612                                                 nan   \n9445                                                 nan   \n9446                                                 nan   \n11947                                                nan   \n\n                                              Anzeige-Na  \\\n151    Scheuring K(Ro)1, None, Batterie Iphofen, Ober...   \n3612                                                 nan   \n9445                                                 nan   \n9446                                                 nan   \n11947                                                nan   \n\n                                      Postcode  \\\n151    None, 86937, 97346, 86698, 86679, 86830   \n3612                                       nan   \n9445                                       nan   \n9446                                       nan   \n11947                                      nan   \n\n                                                    City Street House Numb  \\\n151    None, Schwabmünchen, Ellgau, Iphofen, Oberndor...   None       None   \n3612                                                 nan    nan        nan   \n9445                                                 nan    nan        nan   \n9446                                                 nan    nan        nan   \n11947                                                nan    nan        nan   \n\n        State                                          Datum der  \\\n151    Bayern  None, 1952-05-23, 1980-01-01, 1952-04-18, 2022...   \n3612      nan                                                nan   \n9445      nan                                                nan   \n9446      nan                                                nan   \n11947     nan                                                nan   \n\n                                              Jahr der I  ... name name:sk  \\\n151    1952.0, 1954.0, 2022.0, nan, nan, nan, nan, na...  ...  NaN     NaN   \n3612                                                 nan  ...  NaN     NaN   \n9445                                                 nan  ...  NaN     NaN   \n9446                                                 nan  ...  NaN     NaN   \n11947                                                nan  ...  NaN     NaN   \n\n      note postal_code postal_code_level  ref service source type_right  \\\n151    NaN         NaN               NaN  NaN     NaN    NaN        NaN   \n3612   NaN         NaN               NaN  NaN     NaN    NaN        NaN   \n9445   NaN         NaN               NaN  NaN     NaN    NaN        NaN   \n9446   NaN         NaN               NaN  NaN     NaN    NaN        NaN   \n11947  NaN         NaN               NaN  NaN     NaN    NaN        NaN   \n\n      wikidata  \n151        NaN  \n3612       NaN  \n9445       NaN  \n9446       NaN  \n11947      NaN  \n\n[5 rows x 130 columns]",
      "text/html": "<div>\n<style scoped>\n    .dataframe tbody tr th:only-of-type {\n        vertical-align: middle;\n    }\n\n    .dataframe tbody tr th {\n        vertical-align: top;\n    }\n\n    .dataframe thead th {\n        text-align: right;\n    }\n</style>\n<table border=\"1\" class=\"dataframe\">\n  <thead>\n    <tr style=\"text-align: right;\">\n      <th></th>\n      <th>MaStR-Nr.</th>\n      <th>Anlagenbet</th>\n      <th>Anzeige-Na</th>\n      <th>Postcode</th>\n      <th>City</th>\n      <th>Street</th>\n      <th>House Numb</th>\n      <th>State</th>\n      <th>Datum der</th>\n      <th>Jahr der I</th>\n      <th>...</th>\n      <th>name</th>\n      <th>name:sk</th>\n      <th>note</th>\n      <th>postal_code</th>\n      <th>postal_code_level</th>\n      <th>ref</th>\n      <th>service</th>\n      <th>source</th>\n      <th>type_right</th>\n      <th>wikidata</th>\n    </tr>\n  </thead>\n  <tbody>\n    <tr>\n      <th>151</th>\n      <td>SEE907294548426, SEE922767690112, SEE918933000...</td>\n      <td>EEG-Anlagen &lt; 10 MW, VERBUND Energy4Business G...</td>\n      <td>Scheuring K(Ro)1, None, Batterie Iphofen, Ober...</td>\n      <td>None, 86937, 97346, 86698, 86679, 86830</td>\n      <td>None, Schwabmünchen, Ellgau, Iphofen, Oberndor...</td>\n      <td>None</td>\n      <td>None</td>\n      <td>Bayern</td>\n      <td>None, 1952-05-23, 1980-01-01, 1952-04-18, 2022...</td>\n      <td>1952.0, 1954.0, 2022.0, nan, nan, nan, nan, na...</td>\n      <td>...</td>\n      <td>NaN</td>\n      <td>NaN</td>\n      <td>NaN</td>\n      <td>NaN</td>\n      <td>NaN</td>\n      <td>NaN</td>\n      <td>NaN</td>\n      <td>NaN</td>\n      <td>NaN</td>\n      <td>NaN</td>\n    </tr>\n    <tr>\n      <th>3612</th>\n      <td>nan</td>\n      <td>nan</td>\n      <td>nan</td>\n      <td>nan</td>\n      <td>nan</td>\n      <td>nan</td>\n      <td>nan</td>\n      <td>nan</td>\n      <td>nan</td>\n      <td>nan</td>\n      <td>...</td>\n      <td>NaN</td>\n      <td>NaN</td>\n      <td>NaN</td>\n      <td>NaN</td>\n      <td>NaN</td>\n      <td>NaN</td>\n      <td>NaN</td>\n      <td>NaN</td>\n      <td>NaN</td>\n      <td>NaN</td>\n    </tr>\n    <tr>\n      <th>9445</th>\n      <td>nan</td>\n      <td>nan</td>\n      <td>nan</td>\n      <td>nan</td>\n      <td>nan</td>\n      <td>nan</td>\n      <td>nan</td>\n      <td>nan</td>\n      <td>nan</td>\n      <td>nan</td>\n      <td>...</td>\n      <td>NaN</td>\n      <td>NaN</td>\n      <td>NaN</td>\n      <td>NaN</td>\n      <td>NaN</td>\n      <td>NaN</td>\n      <td>NaN</td>\n      <td>NaN</td>\n      <td>NaN</td>\n      <td>NaN</td>\n    </tr>\n    <tr>\n      <th>9446</th>\n      <td>nan</td>\n      <td>nan</td>\n      <td>nan</td>\n      <td>nan</td>\n      <td>nan</td>\n      <td>nan</td>\n      <td>nan</td>\n      <td>nan</td>\n      <td>nan</td>\n      <td>nan</td>\n      <td>...</td>\n      <td>NaN</td>\n      <td>NaN</td>\n      <td>NaN</td>\n      <td>NaN</td>\n      <td>NaN</td>\n      <td>NaN</td>\n      <td>NaN</td>\n      <td>NaN</td>\n      <td>NaN</td>\n      <td>NaN</td>\n    </tr>\n    <tr>\n      <th>11947</th>\n      <td>nan</td>\n      <td>nan</td>\n      <td>nan</td>\n      <td>nan</td>\n      <td>nan</td>\n      <td>nan</td>\n      <td>nan</td>\n      <td>nan</td>\n      <td>nan</td>\n      <td>nan</td>\n      <td>...</td>\n      <td>NaN</td>\n      <td>NaN</td>\n      <td>NaN</td>\n      <td>NaN</td>\n      <td>NaN</td>\n      <td>NaN</td>\n      <td>NaN</td>\n      <td>NaN</td>\n      <td>NaN</td>\n      <td>NaN</td>\n    </tr>\n  </tbody>\n</table>\n<p>5 rows × 130 columns</p>\n</div>"
     },
     "execution_count": 48,
     "metadata": {},
     "output_type": "execute_result"
    }
   ],
   "source": [
    "test_qgis_1 = aggregated_gdf_with_postcodes[aggregated_gdf_with_postcodes['postal_code'].isna()]\n",
    "test_qgis_1"
   ],
   "metadata": {
    "collapsed": false,
    "ExecuteTime": {
     "end_time": "2024-12-08T22:31:09.343147900Z",
     "start_time": "2024-12-08T22:31:09.309502200Z"
    }
   }
  },
  {
   "cell_type": "code",
   "execution_count": 49,
   "outputs": [
    {
     "name": "stderr",
     "output_type": "stream",
     "text": [
      "C:\\Users\\Natalia\\AppData\\Local\\Temp\\ipykernel_4604\\769119782.py:1: UserWarning: Column names longer than 10 characters will be truncated when saved to ESRI Shapefile.\n",
      "  test_qgis_1.to_file('data/test_qgis_1.shp')\n"
     ]
    }
   ],
   "source": [
    "test_qgis_1.to_file('data/test_qgis_1.shp')"
   ],
   "metadata": {
    "collapsed": false,
    "ExecuteTime": {
     "end_time": "2024-12-08T22:31:09.466527800Z",
     "start_time": "2024-12-08T22:31:09.352441600Z"
    }
   }
  },
  {
   "cell_type": "code",
   "execution_count": 51,
   "outputs": [],
   "source": [
    "# Delete points\n",
    "aggregated_gdf_with_postcodes.drop([9445], inplace=True)\n",
    "aggregated_gdf_with_postcodes.drop([151], inplace=True)"
   ],
   "metadata": {
    "collapsed": false,
    "ExecuteTime": {
     "end_time": "2024-12-08T22:46:54.830746500Z",
     "start_time": "2024-12-08T22:46:53.316110500Z"
    }
   }
  },
  {
   "cell_type": "code",
   "execution_count": 52,
   "outputs": [],
   "source": [
    "# a new location for one point\n",
    "geom_1 = Point(12.218997, 48.582497)\n",
    "# replace geometry for this point\n",
    "aggregated_gdf_with_postcodes.loc[[9446], 'geometry'] = geom_1\n",
    "#aggregated_gdf_with_postcodes.loc[9446]"
   ],
   "metadata": {
    "collapsed": false,
    "ExecuteTime": {
     "end_time": "2024-12-08T22:46:55.622052300Z",
     "start_time": "2024-12-08T22:46:55.597476400Z"
    }
   }
  },
  {
   "cell_type": "code",
   "execution_count": 73,
   "outputs": [
    {
     "data": {
      "text/plain": "MaStR-Nr.     object\nAnlagenbet    object\nAnzeige-Na    object\nPostcode      object\nCity          object\n               ...  \nref           object\nservice       object\nsource        object\ntype_right    object\nwikidata      object\nLength: 130, dtype: object"
     },
     "execution_count": 73,
     "metadata": {},
     "output_type": "execute_result"
    }
   ],
   "source": [
    "# a new location for another point\n",
    "geom_2 = Point(13.004090, 48.245847)\n",
    "# replace geometry with new one\n",
    "aggregated_gdf_with_postcodes.loc[[3612], 'geometry'] = geom_2\n",
    "#aggregated_gdf_with_postcodes.loc[3612]\n",
    "#aggregated_gdf_with_postcodes\n",
    "#aggregated_gdf_with_postcodes.info()\n",
    "#aggregated_gdf_with_postcodes.columns\n",
    "aggregated_gdf_with_postcodes.dtypes\n",
    "#aggregated_gdf_with_postcodes.isna().sum()"
   ],
   "metadata": {
    "collapsed": false,
    "ExecuteTime": {
     "end_time": "2024-12-10T15:08:38.356116900Z",
     "start_time": "2024-12-10T15:08:38.336770900Z"
    }
   }
  },
  {
   "cell_type": "code",
   "execution_count": 54,
   "outputs": [
    {
     "name": "stderr",
     "output_type": "stream",
     "text": [
      "C:\\Users\\Natalia\\AppData\\Local\\Temp\\ipykernel_4604\\3355801671.py:2: UserWarning: Column names longer than 10 characters will be truncated when saved to ESRI Shapefile.\n",
      "  aggregated_gdf_with_postcodes.to_file(output_file_corrected, driver='ESRI Shapefile')\n"
     ]
    }
   ],
   "source": [
    "output_file_corrected = 'data/combined_sources/combined_sources_corrected.shp'\n",
    "aggregated_gdf_with_postcodes.to_file(output_file_corrected, driver='ESRI Shapefile')"
   ],
   "metadata": {
    "collapsed": false,
    "ExecuteTime": {
     "end_time": "2024-12-08T22:47:33.213608500Z",
     "start_time": "2024-12-08T22:46:59.876029200Z"
    }
   }
  },
  {
   "cell_type": "markdown",
   "source": [
    "bayern_postcodes_plz_5stellig"
   ],
   "metadata": {
    "collapsed": false
   }
  },
  {
   "cell_type": "code",
   "execution_count": 29,
   "outputs": [],
   "source": [
    "# bayern_postcodes_plz_5stellig = gpd.read_file('data/bayern_postcodes_plz_5stellig.geojson')"
   ],
   "metadata": {
    "collapsed": false,
    "ExecuteTime": {
     "end_time": "2024-12-07T23:28:46.116216200Z",
     "start_time": "2024-12-07T23:28:46.114030600Z"
    }
   }
  },
  {
   "cell_type": "code",
   "execution_count": 30,
   "outputs": [],
   "source": [
    "# aggregated_gdf_with_postcodes_2 = gpd.sjoin(combined_sources, bayern_postcodes_plz_5stellig, how='left')\n",
    "# aggregated_gdf_with_postcodes_2"
   ],
   "metadata": {
    "collapsed": false,
    "ExecuteTime": {
     "end_time": "2024-12-07T23:28:46.124181600Z",
     "start_time": "2024-12-07T23:28:46.123183400Z"
    }
   }
  },
  {
   "cell_type": "code",
   "execution_count": 31,
   "outputs": [],
   "source": [
    "# test_qgis_2 = aggregated_gdf_with_postcodes_2[aggregated_gdf_with_postcodes_2['plz'].isna()]\n",
    "# test_qgis_2"
   ],
   "metadata": {
    "collapsed": false,
    "ExecuteTime": {
     "end_time": "2024-12-07T23:28:46.161377100Z",
     "start_time": "2024-12-07T23:28:46.129873300Z"
    }
   }
  },
  {
   "cell_type": "code",
   "execution_count": 32,
   "outputs": [],
   "source": [
    "# test_qgis_2.to_file('data/test_qgis_2.shp')"
   ],
   "metadata": {
    "collapsed": false,
    "ExecuteTime": {
     "end_time": "2024-12-07T23:28:46.186583800Z",
     "start_time": "2024-12-07T23:28:46.142573100Z"
    }
   }
  },
  {
   "cell_type": "code",
   "execution_count": 32,
   "outputs": [],
   "source": [],
   "metadata": {
    "collapsed": false,
    "ExecuteTime": {
     "end_time": "2024-12-07T23:28:46.186583800Z",
     "start_time": "2024-12-07T23:28:46.156982400Z"
    }
   }
  }
 ],
 "metadata": {
  "kernelspec": {
   "display_name": "Python 3",
   "language": "python",
   "name": "python3"
  },
  "language_info": {
   "codemirror_mode": {
    "name": "ipython",
    "version": 2
   },
   "file_extension": ".py",
   "mimetype": "text/x-python",
   "name": "python",
   "nbconvert_exporter": "python",
   "pygments_lexer": "ipython2",
   "version": "2.7.6"
  }
 },
 "nbformat": 4,
 "nbformat_minor": 0
}
