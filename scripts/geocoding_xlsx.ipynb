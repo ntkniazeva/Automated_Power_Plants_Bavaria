{
 "cells": [
  {
   "cell_type": "code",
   "execution_count": 1,
   "metadata": {
    "ExecuteTime": {
     "end_time": "2024-11-05T11:05:26.117936700Z",
     "start_time": "2024-11-05T11:05:23.825922900Z"
    },
    "collapsed": true,
    "jupyter": {
     "outputs_hidden": true
    }
   },
   "outputs": [],
   "source": [
    "import pandas as pd\n",
    "import geopandas as gpd\n",
    "from shapely.geometry import Point\n",
    "from geopy.geocoders import Nominatim\n",
    "from geopy.extra.rate_limiter import RateLimiter\n",
    "import os\n",
    "from shapely.wkt import loads\n",
    "from utils import clear_column_names"
   ]
  },
  {
   "cell_type": "markdown",
   "metadata": {
    "collapsed": false,
    "jupyter": {
     "outputs_hidden": false
    }
   },
   "source": [
    "\n",
    "\n",
    "1 Bundesnetzagentur\n",
    "\n"
   ]
  },
  {
   "cell_type": "code",
   "execution_count": 2,
   "metadata": {
    "ExecuteTime": {
     "end_time": "2024-11-05T11:05:34.235880500Z",
     "start_time": "2024-11-05T11:05:32.800957100Z"
    },
    "collapsed": false,
    "jupyter": {
     "outputs_hidden": false
    }
   },
   "outputs": [],
   "source": [
    "# download excel file\n",
    "df_1 = pd.read_excel('data/sources/Bundesnetzagentur/bundesnetzagentur_power_plants.xlsx', engine='openpyxl')"
   ]
  },
  {
   "cell_type": "code",
   "execution_count": 3,
   "metadata": {
    "ExecuteTime": {
     "end_time": "2024-11-05T11:05:34.249482800Z",
     "start_time": "2024-11-05T11:05:34.240114200Z"
    },
    "collapsed": false,
    "jupyter": {
     "outputs_hidden": false
    }
   },
   "outputs": [],
   "source": [
    "# Extract the file name\n",
    "file_name = os.path.basename('data/sources/Bundesnetzagentur/bundesnetzagentur_power_plants.xlsx')\n",
    "# Add a new column with the file name\n",
    "df_1['Source'] = file_name"
   ]
  },
  {
   "cell_type": "code",
   "execution_count": 4,
   "metadata": {
    "ExecuteTime": {
     "end_time": "2024-11-05T11:05:35.706723600Z",
     "start_time": "2024-11-05T11:05:35.681095200Z"
    },
    "collapsed": false,
    "jupyter": {
     "outputs_hidden": false
    }
   },
   "outputs": [],
   "source": [
    "# change date format from DD.MM.YYYY to a datetime64 format YYYY-MM-DD\n",
    "df_1['Datum der erstmaligen Inbetriebnahme der Einheit'] = pd.to_datetime(df_1['Datum der erstmaligen Inbetriebnahme der Einheit'], errors='coerce')"
   ]
  },
  {
   "cell_type": "code",
   "execution_count": 5,
   "metadata": {
    "ExecuteTime": {
     "end_time": "2024-11-05T11:05:46.797513600Z",
     "start_time": "2024-11-05T11:05:46.788439500Z"
    },
    "collapsed": false,
    "jupyter": {
     "outputs_hidden": false
    }
   },
   "outputs": [],
   "source": [
    "# for geocoding, rename German titles of the columns to English ones:\n",
    "# 'Street', 'House Number', 'City', 'Postcode', 'State'\n",
    "df_1 = df_1.rename(columns={\n",
    "    'Straße der Einheit': 'Street',\n",
    "    'Hausnummer der Einheit': 'House Number',\n",
    "    'Ort der Einheit': 'City',\n",
    "    'PLZ der Einheit': 'Postcode',\n",
    "    'Bundesland der Einheit': 'State'\n",
    "})"
   ]
  },
  {
   "cell_type": "code",
   "execution_count": 6,
   "metadata": {
    "ExecuteTime": {
     "end_time": "2024-11-05T11:05:48.808861300Z",
     "start_time": "2024-11-05T11:05:48.795918400Z"
    },
    "collapsed": false,
    "jupyter": {
     "outputs_hidden": false
    }
   },
   "outputs": [],
   "source": [
    "# filter only records for Bayern\n",
    "df_1 = df_1[df_1['State'] == 'Bayern']"
   ]
  },
  {
   "cell_type": "code",
   "execution_count": 7,
   "metadata": {
    "ExecuteTime": {
     "end_time": "2024-11-05T11:05:50.089349800Z",
     "start_time": "2024-11-05T11:05:50.084842400Z"
    },
    "collapsed": false,
    "jupyter": {
     "outputs_hidden": false
    }
   },
   "outputs": [],
   "source": [
    "# delete rows with empty values in the columns which form an address for Nominatim API query\n",
    "df_filtered = df_1.dropna(subset=['Street', 'House Number', 'City', 'Postcode'])"
   ]
  },
  {
   "cell_type": "code",
   "execution_count": 8,
   "metadata": {
    "ExecuteTime": {
     "end_time": "2024-11-05T11:05:51.890563700Z",
     "start_time": "2024-11-05T11:05:51.884464100Z"
    },
    "collapsed": false,
    "jupyter": {
     "outputs_hidden": false
    }
   },
   "outputs": [],
   "source": [
    "# concatenate column values in a string containing full addresses for Nominatim API query\n",
    "# create a new column 'Full Address'\n",
    "df_1['Full Address'] = df_1['Street'] + ', ' + df_1['House Number'].astype(str) + ', ' + df_1['City'] + ', ' + df_1['Postcode'].astype(str) + ', Germany'"
   ]
  },
  {
   "cell_type": "code",
   "execution_count": 9,
   "metadata": {
    "ExecuteTime": {
     "end_time": "2024-11-05T11:05:53.061318200Z",
     "start_time": "2024-11-05T11:05:52.991278Z"
    },
    "collapsed": false,
    "jupyter": {
     "outputs_hidden": false
    }
   },
   "outputs": [],
   "source": [
    "# initialise geocoder Nominatim\n",
    "geolocator = Nominatim(user_agent=\"your_app_name\")\n",
    "geocode = RateLimiter(geolocator.geocode, min_delay_seconds=1)"
   ]
  },
  {
   "cell_type": "code",
   "execution_count": 10,
   "metadata": {
    "ExecuteTime": {
     "end_time": "2024-11-05T11:17:00.099067Z",
     "start_time": "2024-11-05T11:05:54.134566700Z"
    },
    "collapsed": false,
    "jupyter": {
     "outputs_hidden": false
    }
   },
   "outputs": [],
   "source": [
    "# a function takes a row\n",
    "# applies the geolocator.geocode function from the Nominatim API to each row\n",
    "# gets the geographic coordinates to each row\n",
    "def my_geocoder(row):\n",
    "    try:\n",
    "        point = geolocator.geocode(row).point\n",
    "        return pd.Series({'Latitude': point.latitude, 'Longitude': point.longitude})\n",
    "    except:\n",
    "        return None\n",
    "\n",
    "# applies 'my_geocoder' function to each row in the df_1 dataframe\n",
    "# extracts the value from the 'Full Address' column and passes it to 'my_geocoder' function\n",
    "# finds the corresponding latitude and longitude of the full address\n",
    "# adds the results to the new columns 'Latitude' and 'Longitude'\n",
    "df_1[['Latitude', 'Longitude']] = df_1.apply(lambda x: my_geocoder(x['Full Address']), axis=1)"
   ]
  },
  {
   "cell_type": "code",
   "execution_count": 11,
   "metadata": {
    "ExecuteTime": {
     "end_time": "2024-11-05T11:17:00.136974800Z",
     "start_time": "2024-11-05T11:17:00.124492Z"
    },
    "collapsed": false,
    "jupyter": {
     "outputs_hidden": false
    }
   },
   "outputs": [],
   "source": [
    "# 'zip' function pairs elements together and creates a tuple (longitude, latitude)\n",
    "# 'Point(xy)' creates a Point object for each tuple, using Shapely library\n",
    "# creates a list of points for each row in df_1\n",
    "geometry = [Point(xy) for xy in zip(df_1['Longitude'], df_1['Latitude'])]"
   ]
  },
  {
   "cell_type": "code",
   "execution_count": 12,
   "metadata": {
    "ExecuteTime": {
     "end_time": "2024-11-05T11:17:00.322258900Z",
     "start_time": "2024-11-05T11:17:00.138973Z"
    },
    "collapsed": false,
    "jupyter": {
     "outputs_hidden": false
    }
   },
   "outputs": [
    {
     "data": {
      "text/html": [
       "<div>\n",
       "<style scoped>\n",
       "    .dataframe tbody tr th:only-of-type {\n",
       "        vertical-align: middle;\n",
       "    }\n",
       "\n",
       "    .dataframe tbody tr th {\n",
       "        vertical-align: top;\n",
       "    }\n",
       "\n",
       "    .dataframe thead th {\n",
       "        text-align: right;\n",
       "    }\n",
       "</style>\n",
       "<table border=\"1\" class=\"dataframe\">\n",
       "  <thead>\n",
       "    <tr style=\"text-align: right;\">\n",
       "      <th></th>\n",
       "      <th>MaStR-Nr. der Stromerzeugungseinheit</th>\n",
       "      <th>Anlagenbetreiber</th>\n",
       "      <th>Anzeige-Name der Stromerzeugungseinheit</th>\n",
       "      <th>Postcode</th>\n",
       "      <th>City</th>\n",
       "      <th>Street</th>\n",
       "      <th>House Number</th>\n",
       "      <th>State</th>\n",
       "      <th>Datum der erstmaligen Inbetriebnahme der Einheit</th>\n",
       "      <th>Jahr der Inbetriebnahme der Einheit</th>\n",
       "      <th>...</th>\n",
       "      <th>Ist die Stromerzeugungseinheit ein Bestandteil eines Grenzkraftwerkes?: ja \\nNettonennleistung der Einspeisung in ein deutsches Netz:</th>\n",
       "      <th>Technologie der Stromerzeugung</th>\n",
       "      <th>Volleinspeisung oder Teileinspeisung?</th>\n",
       "      <th>Anschlussnetzbetreiber</th>\n",
       "      <th>Spannungsebene</th>\n",
       "      <th>Source</th>\n",
       "      <th>Full Address</th>\n",
       "      <th>Latitude</th>\n",
       "      <th>Longitude</th>\n",
       "      <th>geometry</th>\n",
       "    </tr>\n",
       "  </thead>\n",
       "  <tbody>\n",
       "    <tr>\n",
       "      <th>17</th>\n",
       "      <td>SEE909373287806</td>\n",
       "      <td>Heizkraftwerk Altenstadt GmbH &amp; Co. KG</td>\n",
       "      <td>Heizkraftwerk Altenstadt</td>\n",
       "      <td>86972</td>\n",
       "      <td>Altenstadt</td>\n",
       "      <td>Triebstraße</td>\n",
       "      <td>90</td>\n",
       "      <td>Bayern</td>\n",
       "      <td>1999-10-01</td>\n",
       "      <td>1999.0</td>\n",
       "      <td>...</td>\n",
       "      <td>NaN</td>\n",
       "      <td>Kondensationsmaschine mit Entnahme</td>\n",
       "      <td>Teileinspeisung (einschließlich Eigenverbrauch)</td>\n",
       "      <td>LEW Verteilnetz GmbH (SNB911705062982)</td>\n",
       "      <td>Mittelspannung</td>\n",
       "      <td>bundesnetzagentur_power_plants.xlsx</td>\n",
       "      <td>Triebstraße, 90, Altenstadt, 86972, Germany</td>\n",
       "      <td>47.797296</td>\n",
       "      <td>10.859082</td>\n",
       "      <td>POINT (10.85908 47.79730)</td>\n",
       "    </tr>\n",
       "    <tr>\n",
       "      <th>18</th>\n",
       "      <td>SEE950208762586</td>\n",
       "      <td>Untere Iller GmbH</td>\n",
       "      <td>Untereichen F1</td>\n",
       "      <td>89281</td>\n",
       "      <td>Altenstadt</td>\n",
       "      <td>Werkstraße</td>\n",
       "      <td>60</td>\n",
       "      <td>Bayern</td>\n",
       "      <td>1931-01-01</td>\n",
       "      <td>1931.0</td>\n",
       "      <td>...</td>\n",
       "      <td>NaN</td>\n",
       "      <td>NaN</td>\n",
       "      <td>Teileinspeisung (einschließlich Eigenverbrauch)</td>\n",
       "      <td>LEW Verteilnetz GmbH (SNB911705062982)</td>\n",
       "      <td>Umspannebene Mittelspannung/Niederspannung</td>\n",
       "      <td>bundesnetzagentur_power_plants.xlsx</td>\n",
       "      <td>Werkstraße, 60, Altenstadt, 89281, Germany</td>\n",
       "      <td>NaN</td>\n",
       "      <td>NaN</td>\n",
       "      <td>POINT EMPTY</td>\n",
       "    </tr>\n",
       "    <tr>\n",
       "      <th>19</th>\n",
       "      <td>SEE968240296907</td>\n",
       "      <td>Untere Iller GmbH</td>\n",
       "      <td>Untereichen F2</td>\n",
       "      <td>89281</td>\n",
       "      <td>Altenstadt</td>\n",
       "      <td>Werkstraße</td>\n",
       "      <td>60</td>\n",
       "      <td>Bayern</td>\n",
       "      <td>1931-01-01</td>\n",
       "      <td>1931.0</td>\n",
       "      <td>...</td>\n",
       "      <td>NaN</td>\n",
       "      <td>NaN</td>\n",
       "      <td>Teileinspeisung (einschließlich Eigenverbrauch)</td>\n",
       "      <td>LEW Verteilnetz GmbH (SNB911705062982)</td>\n",
       "      <td>Umspannebene Mittelspannung/Niederspannung</td>\n",
       "      <td>bundesnetzagentur_power_plants.xlsx</td>\n",
       "      <td>Werkstraße, 60, Altenstadt, 89281, Germany</td>\n",
       "      <td>NaN</td>\n",
       "      <td>NaN</td>\n",
       "      <td>POINT EMPTY</td>\n",
       "    </tr>\n",
       "    <tr>\n",
       "      <th>20</th>\n",
       "      <td>SEE968986286460</td>\n",
       "      <td>Untere Iller GmbH</td>\n",
       "      <td>Untereichen F3</td>\n",
       "      <td>89281</td>\n",
       "      <td>Altenstadt</td>\n",
       "      <td>Werkstraße</td>\n",
       "      <td>60</td>\n",
       "      <td>Bayern</td>\n",
       "      <td>1931-01-01</td>\n",
       "      <td>1931.0</td>\n",
       "      <td>...</td>\n",
       "      <td>NaN</td>\n",
       "      <td>NaN</td>\n",
       "      <td>Teileinspeisung (einschließlich Eigenverbrauch)</td>\n",
       "      <td>LEW Verteilnetz GmbH (SNB911705062982)</td>\n",
       "      <td>Umspannebene Mittelspannung/Niederspannung</td>\n",
       "      <td>bundesnetzagentur_power_plants.xlsx</td>\n",
       "      <td>Werkstraße, 60, Altenstadt, 89281, Germany</td>\n",
       "      <td>48.170123</td>\n",
       "      <td>10.104592</td>\n",
       "      <td>POINT (10.10459 48.17012)</td>\n",
       "    </tr>\n",
       "    <tr>\n",
       "      <th>33</th>\n",
       "      <td>SEE973646665912</td>\n",
       "      <td>DS Smith Paper Deutschland GmbH</td>\n",
       "      <td>BHKW 1</td>\n",
       "      <td>63741</td>\n",
       "      <td>Aschaffenburg</td>\n",
       "      <td>Weichertstraße</td>\n",
       "      <td>7</td>\n",
       "      <td>Bayern</td>\n",
       "      <td>2005-12-14</td>\n",
       "      <td>2005.0</td>\n",
       "      <td>...</td>\n",
       "      <td>NaN</td>\n",
       "      <td>Verbrennungsmotor</td>\n",
       "      <td>Volleinspeisung</td>\n",
       "      <td>Aschaffenburger Versorgungs-GmbH (SNB911081401...</td>\n",
       "      <td>Umspannebene Hochspannung/Mittelspannung; Umsp...</td>\n",
       "      <td>bundesnetzagentur_power_plants.xlsx</td>\n",
       "      <td>Weichertstraße, 7, Aschaffenburg, 63741, Germany</td>\n",
       "      <td>NaN</td>\n",
       "      <td>NaN</td>\n",
       "      <td>POINT EMPTY</td>\n",
       "    </tr>\n",
       "    <tr>\n",
       "      <th>...</th>\n",
       "      <td>...</td>\n",
       "      <td>...</td>\n",
       "      <td>...</td>\n",
       "      <td>...</td>\n",
       "      <td>...</td>\n",
       "      <td>...</td>\n",
       "      <td>...</td>\n",
       "      <td>...</td>\n",
       "      <td>...</td>\n",
       "      <td>...</td>\n",
       "      <td>...</td>\n",
       "      <td>...</td>\n",
       "      <td>...</td>\n",
       "      <td>...</td>\n",
       "      <td>...</td>\n",
       "      <td>...</td>\n",
       "      <td>...</td>\n",
       "      <td>...</td>\n",
       "      <td>...</td>\n",
       "      <td>...</td>\n",
       "      <td>...</td>\n",
       "    </tr>\n",
       "    <tr>\n",
       "      <th>1927</th>\n",
       "      <td>SEE9-Dummy-EEG</td>\n",
       "      <td>EEG-Anlagen &lt; 10 MW</td>\n",
       "      <td>NaN</td>\n",
       "      <td>NaN</td>\n",
       "      <td>NaN</td>\n",
       "      <td>NaN</td>\n",
       "      <td>NaN</td>\n",
       "      <td>Bayern</td>\n",
       "      <td>NaT</td>\n",
       "      <td>NaN</td>\n",
       "      <td>...</td>\n",
       "      <td>NaN</td>\n",
       "      <td>NaN</td>\n",
       "      <td>NaN</td>\n",
       "      <td>NaN</td>\n",
       "      <td>NaN</td>\n",
       "      <td>bundesnetzagentur_power_plants.xlsx</td>\n",
       "      <td>NaN</td>\n",
       "      <td>46.314475</td>\n",
       "      <td>11.048029</td>\n",
       "      <td>POINT (11.04803 46.31448)</td>\n",
       "    </tr>\n",
       "    <tr>\n",
       "      <th>1943</th>\n",
       "      <td>SEE9-Dummy-EEG</td>\n",
       "      <td>EEG-Anlagen &lt; 10 MW</td>\n",
       "      <td>NaN</td>\n",
       "      <td>NaN</td>\n",
       "      <td>NaN</td>\n",
       "      <td>NaN</td>\n",
       "      <td>NaN</td>\n",
       "      <td>Bayern</td>\n",
       "      <td>NaT</td>\n",
       "      <td>NaN</td>\n",
       "      <td>...</td>\n",
       "      <td>NaN</td>\n",
       "      <td>NaN</td>\n",
       "      <td>NaN</td>\n",
       "      <td>NaN</td>\n",
       "      <td>NaN</td>\n",
       "      <td>bundesnetzagentur_power_plants.xlsx</td>\n",
       "      <td>NaN</td>\n",
       "      <td>46.314475</td>\n",
       "      <td>11.048029</td>\n",
       "      <td>POINT (11.04803 46.31448)</td>\n",
       "    </tr>\n",
       "    <tr>\n",
       "      <th>1962</th>\n",
       "      <td>SEE9-Dummy-EEG</td>\n",
       "      <td>EEG-Anlagen &lt; 10 MW</td>\n",
       "      <td>NaN</td>\n",
       "      <td>NaN</td>\n",
       "      <td>NaN</td>\n",
       "      <td>NaN</td>\n",
       "      <td>NaN</td>\n",
       "      <td>Bayern</td>\n",
       "      <td>NaT</td>\n",
       "      <td>NaN</td>\n",
       "      <td>...</td>\n",
       "      <td>NaN</td>\n",
       "      <td>NaN</td>\n",
       "      <td>NaN</td>\n",
       "      <td>NaN</td>\n",
       "      <td>NaN</td>\n",
       "      <td>bundesnetzagentur_power_plants.xlsx</td>\n",
       "      <td>NaN</td>\n",
       "      <td>46.314475</td>\n",
       "      <td>11.048029</td>\n",
       "      <td>POINT (11.04803 46.31448)</td>\n",
       "    </tr>\n",
       "    <tr>\n",
       "      <th>1978</th>\n",
       "      <td>SEE9-Dummy-EEG</td>\n",
       "      <td>EEG-Anlagen &lt; 10 MW</td>\n",
       "      <td>NaN</td>\n",
       "      <td>NaN</td>\n",
       "      <td>NaN</td>\n",
       "      <td>NaN</td>\n",
       "      <td>NaN</td>\n",
       "      <td>Bayern</td>\n",
       "      <td>NaT</td>\n",
       "      <td>NaN</td>\n",
       "      <td>...</td>\n",
       "      <td>NaN</td>\n",
       "      <td>NaN</td>\n",
       "      <td>NaN</td>\n",
       "      <td>NaN</td>\n",
       "      <td>NaN</td>\n",
       "      <td>bundesnetzagentur_power_plants.xlsx</td>\n",
       "      <td>NaN</td>\n",
       "      <td>46.314475</td>\n",
       "      <td>11.048029</td>\n",
       "      <td>POINT (11.04803 46.31448)</td>\n",
       "    </tr>\n",
       "    <tr>\n",
       "      <th>1994</th>\n",
       "      <td>SEE9-Dummy-EEG</td>\n",
       "      <td>EEG-Anlagen &lt; 10 MW</td>\n",
       "      <td>NaN</td>\n",
       "      <td>NaN</td>\n",
       "      <td>NaN</td>\n",
       "      <td>NaN</td>\n",
       "      <td>NaN</td>\n",
       "      <td>Bayern</td>\n",
       "      <td>NaT</td>\n",
       "      <td>NaN</td>\n",
       "      <td>...</td>\n",
       "      <td>NaN</td>\n",
       "      <td>NaN</td>\n",
       "      <td>NaN</td>\n",
       "      <td>NaN</td>\n",
       "      <td>NaN</td>\n",
       "      <td>bundesnetzagentur_power_plants.xlsx</td>\n",
       "      <td>NaN</td>\n",
       "      <td>46.314475</td>\n",
       "      <td>11.048029</td>\n",
       "      <td>POINT (11.04803 46.31448)</td>\n",
       "    </tr>\n",
       "  </tbody>\n",
       "</table>\n",
       "<p>418 rows × 28 columns</p>\n",
       "</div>"
      ],
      "text/plain": [
       "     MaStR-Nr. der Stromerzeugungseinheit  \\\n",
       "17                        SEE909373287806   \n",
       "18                        SEE950208762586   \n",
       "19                        SEE968240296907   \n",
       "20                        SEE968986286460   \n",
       "33                        SEE973646665912   \n",
       "...                                   ...   \n",
       "1927                       SEE9-Dummy-EEG   \n",
       "1943                       SEE9-Dummy-EEG   \n",
       "1962                       SEE9-Dummy-EEG   \n",
       "1978                       SEE9-Dummy-EEG   \n",
       "1994                       SEE9-Dummy-EEG   \n",
       "\n",
       "                            Anlagenbetreiber  \\\n",
       "17    Heizkraftwerk Altenstadt GmbH & Co. KG   \n",
       "18                         Untere Iller GmbH   \n",
       "19                         Untere Iller GmbH   \n",
       "20                         Untere Iller GmbH   \n",
       "33           DS Smith Paper Deutschland GmbH   \n",
       "...                                      ...   \n",
       "1927                     EEG-Anlagen < 10 MW   \n",
       "1943                     EEG-Anlagen < 10 MW   \n",
       "1962                     EEG-Anlagen < 10 MW   \n",
       "1978                     EEG-Anlagen < 10 MW   \n",
       "1994                     EEG-Anlagen < 10 MW   \n",
       "\n",
       "     Anzeige-Name der Stromerzeugungseinheit Postcode           City  \\\n",
       "17                  Heizkraftwerk Altenstadt    86972     Altenstadt   \n",
       "18                            Untereichen F1    89281     Altenstadt   \n",
       "19                            Untereichen F2    89281     Altenstadt   \n",
       "20                            Untereichen F3    89281     Altenstadt   \n",
       "33                                    BHKW 1    63741  Aschaffenburg   \n",
       "...                                      ...      ...            ...   \n",
       "1927                                     NaN      NaN            NaN   \n",
       "1943                                     NaN      NaN            NaN   \n",
       "1962                                     NaN      NaN            NaN   \n",
       "1978                                     NaN      NaN            NaN   \n",
       "1994                                     NaN      NaN            NaN   \n",
       "\n",
       "              Street House Number   State  \\\n",
       "17       Triebstraße           90  Bayern   \n",
       "18        Werkstraße           60  Bayern   \n",
       "19        Werkstraße           60  Bayern   \n",
       "20        Werkstraße           60  Bayern   \n",
       "33    Weichertstraße            7  Bayern   \n",
       "...              ...          ...     ...   \n",
       "1927             NaN          NaN  Bayern   \n",
       "1943             NaN          NaN  Bayern   \n",
       "1962             NaN          NaN  Bayern   \n",
       "1978             NaN          NaN  Bayern   \n",
       "1994             NaN          NaN  Bayern   \n",
       "\n",
       "     Datum der erstmaligen Inbetriebnahme der Einheit  \\\n",
       "17                                         1999-10-01   \n",
       "18                                         1931-01-01   \n",
       "19                                         1931-01-01   \n",
       "20                                         1931-01-01   \n",
       "33                                         2005-12-14   \n",
       "...                                               ...   \n",
       "1927                                              NaT   \n",
       "1943                                              NaT   \n",
       "1962                                              NaT   \n",
       "1978                                              NaT   \n",
       "1994                                              NaT   \n",
       "\n",
       "      Jahr der Inbetriebnahme der Einheit  ...  \\\n",
       "17                                 1999.0  ...   \n",
       "18                                 1931.0  ...   \n",
       "19                                 1931.0  ...   \n",
       "20                                 1931.0  ...   \n",
       "33                                 2005.0  ...   \n",
       "...                                   ...  ...   \n",
       "1927                                  NaN  ...   \n",
       "1943                                  NaN  ...   \n",
       "1962                                  NaN  ...   \n",
       "1978                                  NaN  ...   \n",
       "1994                                  NaN  ...   \n",
       "\n",
       "     Ist die Stromerzeugungseinheit ein Bestandteil eines Grenzkraftwerkes?: ja \\nNettonennleistung der Einspeisung in ein deutsches Netz:  \\\n",
       "17                                                  NaN                                                                                      \n",
       "18                                                  NaN                                                                                      \n",
       "19                                                  NaN                                                                                      \n",
       "20                                                  NaN                                                                                      \n",
       "33                                                  NaN                                                                                      \n",
       "...                                                 ...                                                                                      \n",
       "1927                                                NaN                                                                                      \n",
       "1943                                                NaN                                                                                      \n",
       "1962                                                NaN                                                                                      \n",
       "1978                                                NaN                                                                                      \n",
       "1994                                                NaN                                                                                      \n",
       "\n",
       "          Technologie der Stromerzeugung  \\\n",
       "17    Kondensationsmaschine mit Entnahme   \n",
       "18                                   NaN   \n",
       "19                                   NaN   \n",
       "20                                   NaN   \n",
       "33                     Verbrennungsmotor   \n",
       "...                                  ...   \n",
       "1927                                 NaN   \n",
       "1943                                 NaN   \n",
       "1962                                 NaN   \n",
       "1978                                 NaN   \n",
       "1994                                 NaN   \n",
       "\n",
       "                Volleinspeisung oder Teileinspeisung?  \\\n",
       "17    Teileinspeisung (einschließlich Eigenverbrauch)   \n",
       "18    Teileinspeisung (einschließlich Eigenverbrauch)   \n",
       "19    Teileinspeisung (einschließlich Eigenverbrauch)   \n",
       "20    Teileinspeisung (einschließlich Eigenverbrauch)   \n",
       "33                                    Volleinspeisung   \n",
       "...                                               ...   \n",
       "1927                                              NaN   \n",
       "1943                                              NaN   \n",
       "1962                                              NaN   \n",
       "1978                                              NaN   \n",
       "1994                                              NaN   \n",
       "\n",
       "                                 Anschlussnetzbetreiber  \\\n",
       "17               LEW Verteilnetz GmbH (SNB911705062982)   \n",
       "18               LEW Verteilnetz GmbH (SNB911705062982)   \n",
       "19               LEW Verteilnetz GmbH (SNB911705062982)   \n",
       "20               LEW Verteilnetz GmbH (SNB911705062982)   \n",
       "33    Aschaffenburger Versorgungs-GmbH (SNB911081401...   \n",
       "...                                                 ...   \n",
       "1927                                                NaN   \n",
       "1943                                                NaN   \n",
       "1962                                                NaN   \n",
       "1978                                                NaN   \n",
       "1994                                                NaN   \n",
       "\n",
       "                                         Spannungsebene  \\\n",
       "17                                       Mittelspannung   \n",
       "18           Umspannebene Mittelspannung/Niederspannung   \n",
       "19           Umspannebene Mittelspannung/Niederspannung   \n",
       "20           Umspannebene Mittelspannung/Niederspannung   \n",
       "33    Umspannebene Hochspannung/Mittelspannung; Umsp...   \n",
       "...                                                 ...   \n",
       "1927                                                NaN   \n",
       "1943                                                NaN   \n",
       "1962                                                NaN   \n",
       "1978                                                NaN   \n",
       "1994                                                NaN   \n",
       "\n",
       "                                   Source  \\\n",
       "17    bundesnetzagentur_power_plants.xlsx   \n",
       "18    bundesnetzagentur_power_plants.xlsx   \n",
       "19    bundesnetzagentur_power_plants.xlsx   \n",
       "20    bundesnetzagentur_power_plants.xlsx   \n",
       "33    bundesnetzagentur_power_plants.xlsx   \n",
       "...                                   ...   \n",
       "1927  bundesnetzagentur_power_plants.xlsx   \n",
       "1943  bundesnetzagentur_power_plants.xlsx   \n",
       "1962  bundesnetzagentur_power_plants.xlsx   \n",
       "1978  bundesnetzagentur_power_plants.xlsx   \n",
       "1994  bundesnetzagentur_power_plants.xlsx   \n",
       "\n",
       "                                          Full Address   Latitude  Longitude  \\\n",
       "17         Triebstraße, 90, Altenstadt, 86972, Germany  47.797296  10.859082   \n",
       "18          Werkstraße, 60, Altenstadt, 89281, Germany        NaN        NaN   \n",
       "19          Werkstraße, 60, Altenstadt, 89281, Germany        NaN        NaN   \n",
       "20          Werkstraße, 60, Altenstadt, 89281, Germany  48.170123  10.104592   \n",
       "33    Weichertstraße, 7, Aschaffenburg, 63741, Germany        NaN        NaN   \n",
       "...                                                ...        ...        ...   \n",
       "1927                                               NaN  46.314475  11.048029   \n",
       "1943                                               NaN  46.314475  11.048029   \n",
       "1962                                               NaN  46.314475  11.048029   \n",
       "1978                                               NaN  46.314475  11.048029   \n",
       "1994                                               NaN  46.314475  11.048029   \n",
       "\n",
       "                       geometry  \n",
       "17    POINT (10.85908 47.79730)  \n",
       "18                  POINT EMPTY  \n",
       "19                  POINT EMPTY  \n",
       "20    POINT (10.10459 48.17012)  \n",
       "33                  POINT EMPTY  \n",
       "...                         ...  \n",
       "1927  POINT (11.04803 46.31448)  \n",
       "1943  POINT (11.04803 46.31448)  \n",
       "1962  POINT (11.04803 46.31448)  \n",
       "1978  POINT (11.04803 46.31448)  \n",
       "1994  POINT (11.04803 46.31448)  \n",
       "\n",
       "[418 rows x 28 columns]"
      ]
     },
     "execution_count": 12,
     "metadata": {},
     "output_type": "execute_result"
    }
   ],
   "source": [
    "# converts 'df_1' dataframe into a 'gdf_1' GeoDataFrame\n",
    "gdf_1 = gpd.GeoDataFrame(df_1, geometry=geometry)\n",
    "\n",
    "# sets crs to epsg=4326\n",
    "gdf_1.set_crs(epsg=4326, inplace=True)"
   ]
  },
  {
   "cell_type": "code",
   "execution_count": 13,
   "metadata": {
    "ExecuteTime": {
     "end_time": "2024-11-05T11:17:00.329279500Z",
     "start_time": "2024-11-05T11:17:00.325690Z"
    },
    "collapsed": false,
    "jupyter": {
     "outputs_hidden": false
    }
   },
   "outputs": [],
   "source": [
    "# applies the 'clear_column_names' function created in 'utiles.py':\n",
    "# replaces umlauts with their ASCII equivalents,\n",
    "# removes parenthesis, colons, soft hyphens and other special characters\n",
    "clear_column_names(gdf_1)"
   ]
  },
  {
   "cell_type": "code",
   "execution_count": 14,
   "metadata": {
    "ExecuteTime": {
     "end_time": "2024-11-05T11:17:00.340727300Z",
     "start_time": "2024-11-05T11:17:00.339726400Z"
    },
    "collapsed": false,
    "jupyter": {
     "outputs_hidden": false
    }
   },
   "outputs": [],
   "source": [
    "# before saving the resulting geodataframe in a shapefile,\n",
    "# datetime objects YYYY-MM-DD should be converted into string objects 'YYYY-MM-DD',\n",
    "# because a shapefile format doesn't support a 'datetime' format\n",
    "gdf_1['Datum der erstmaligen Inbetriebnahme der Einheit'] = gdf_1['Datum der erstmaligen Inbetriebnahme der Einheit'].dt.strftime('%Y-%m-%d')"
   ]
  },
  {
   "cell_type": "code",
   "execution_count": 15,
   "metadata": {
    "ExecuteTime": {
     "end_time": "2024-11-05T11:17:01.191636500Z",
     "start_time": "2024-11-05T11:17:00.344765100Z"
    },
    "collapsed": false,
    "jupyter": {
     "outputs_hidden": false
    }
   },
   "outputs": [
    {
     "name": "stderr",
     "output_type": "stream",
     "text": [
      "C:\\Users\\Natalia\\AppData\\Local\\Temp\\ipykernel_21096\\1546126883.py:2: UserWarning: Column names longer than 10 characters will be truncated when saved to ESRI Shapefile.\n",
      "  gdf_1.to_file('data/sources/bundesnetzagentur_power_plants.shp', driver='ESRI Shapefile')\n"
     ]
    }
   ],
   "source": [
    "# saves gdf_1 to a shapefile 'bundesnetzagentur_power_plants.shp'\n",
    "gdf_1.to_file('data/sources/bundesnetzagentur_power_plants.shp', driver='ESRI Shapefile')"
   ]
  },
  {
   "cell_type": "markdown",
   "metadata": {
    "collapsed": false,
    "jupyter": {
     "outputs_hidden": false
    }
   },
   "source": [
    "2 Open Power System Data (OPSD)\n",
    "\n",
    "\n"
   ]
  },
  {
   "cell_type": "code",
   "execution_count": 16,
   "metadata": {
    "ExecuteTime": {
     "end_time": "2024-11-05T11:17:01.706286500Z",
     "start_time": "2024-11-05T11:17:01.241568Z"
    },
    "collapsed": false,
    "jupyter": {
     "outputs_hidden": false
    }
   },
   "outputs": [],
   "source": [
    "# read an Excel file 'OPSD_conventional_power_plants.xlsx'\n",
    "df_2 = pd.read_excel('data/sources/Open Power System Data_OPSD/OPSD_conventional_power_plants.xlsx')"
   ]
  },
  {
   "cell_type": "code",
   "execution_count": 17,
   "metadata": {
    "ExecuteTime": {
     "end_time": "2024-11-05T11:17:01.721841600Z",
     "start_time": "2024-11-05T11:17:01.711884100Z"
    },
    "collapsed": false,
    "jupyter": {
     "outputs_hidden": false
    }
   },
   "outputs": [],
   "source": [
    "# Extract the file name\n",
    "file_name_2 = os.path.basename('data/sources/Open Power System Data_OPSD/OPSD_conventional_power_plants.xlsx')\n",
    "# Add a new column with the file name\n",
    "df_2['Source'] = file_name_2"
   ]
  },
  {
   "cell_type": "code",
   "execution_count": 18,
   "metadata": {
    "ExecuteTime": {
     "end_time": "2024-11-05T11:17:01.733968200Z",
     "start_time": "2024-11-05T11:17:01.721841600Z"
    },
    "collapsed": false,
    "jupyter": {
     "outputs_hidden": false
    }
   },
   "outputs": [],
   "source": [
    "# keep data only for Bavaria\n",
    "df_2 = df_2[df_2['state'] == 'Bayern']"
   ]
  },
  {
   "cell_type": "code",
   "execution_count": 19,
   "metadata": {
    "ExecuteTime": {
     "end_time": "2024-11-05T11:17:01.736008500Z",
     "start_time": "2024-11-05T11:17:01.729364400Z"
    },
    "collapsed": false,
    "jupyter": {
     "outputs_hidden": false
    }
   },
   "outputs": [],
   "source": [
    "# 'zip' function pairs elements together and creates a tuple (longitude, latitude)\n",
    "# 'Point(xy)' creates a Point object for each tuple, using Shapely library\n",
    "# creates a list of points for each row in df_2\n",
    "geometry = [Point(xy) for xy in zip(df_2['lon'], df_2['lat'])]"
   ]
  },
  {
   "cell_type": "code",
   "execution_count": 20,
   "metadata": {
    "ExecuteTime": {
     "end_time": "2024-11-05T11:17:01.766778300Z",
     "start_time": "2024-11-05T11:17:01.736008500Z"
    },
    "collapsed": false,
    "jupyter": {
     "outputs_hidden": false
    }
   },
   "outputs": [],
   "source": [
    "# convert the dataframe df_2 to a geodataframe gdf_2 by adding 'geometry' column\n",
    "gdf_2 = gpd.GeoDataFrame(df_2, geometry=geometry)"
   ]
  },
  {
   "cell_type": "code",
   "execution_count": 21,
   "metadata": {
    "ExecuteTime": {
     "end_time": "2024-11-05T11:17:01.784383900Z",
     "start_time": "2024-11-05T11:17:01.759753500Z"
    },
    "collapsed": false,
    "jupyter": {
     "outputs_hidden": false
    }
   },
   "outputs": [
    {
     "data": {
      "text/html": [
       "<div>\n",
       "<style scoped>\n",
       "    .dataframe tbody tr th:only-of-type {\n",
       "        vertical-align: middle;\n",
       "    }\n",
       "\n",
       "    .dataframe tbody tr th {\n",
       "        vertical-align: top;\n",
       "    }\n",
       "\n",
       "    .dataframe thead th {\n",
       "        text-align: right;\n",
       "    }\n",
       "</style>\n",
       "<table border=\"1\" class=\"dataframe\">\n",
       "  <thead>\n",
       "    <tr style=\"text-align: right;\">\n",
       "      <th></th>\n",
       "      <th>id</th>\n",
       "      <th>name_bnetza</th>\n",
       "      <th>block_bnetza</th>\n",
       "      <th>name_uba</th>\n",
       "      <th>company</th>\n",
       "      <th>street</th>\n",
       "      <th>postcode</th>\n",
       "      <th>city</th>\n",
       "      <th>state</th>\n",
       "      <th>country</th>\n",
       "      <th>...</th>\n",
       "      <th>energy_source_level_2</th>\n",
       "      <th>energy_source_level_3</th>\n",
       "      <th>eeg</th>\n",
       "      <th>network_node</th>\n",
       "      <th>voltage</th>\n",
       "      <th>network_operator</th>\n",
       "      <th>merge_comment</th>\n",
       "      <th>comment</th>\n",
       "      <th>Source</th>\n",
       "      <th>geometry</th>\n",
       "    </tr>\n",
       "  </thead>\n",
       "  <tbody>\n",
       "    <tr>\n",
       "      <th>1</th>\n",
       "      <td>BNA0021</td>\n",
       "      <td>HKW Altenstadt</td>\n",
       "      <td>NaN</td>\n",
       "      <td>NaN</td>\n",
       "      <td>Heizkraftwerk Altenstadt GmbH &amp; Co. KG</td>\n",
       "      <td>Triebstraße 90</td>\n",
       "      <td>86972</td>\n",
       "      <td>Altenstadt</td>\n",
       "      <td>Bayern</td>\n",
       "      <td>DE</td>\n",
       "      <td>...</td>\n",
       "      <td>Bioenergy</td>\n",
       "      <td>Biomass and biogas</td>\n",
       "      <td>yes</td>\n",
       "      <td>NaN</td>\n",
       "      <td>Mittelspannung (MS)</td>\n",
       "      <td>LEW Verteilnetz GmbH</td>\n",
       "      <td>NaN</td>\n",
       "      <td>NaN</td>\n",
       "      <td>OPSD_conventional_power_plants.xlsx</td>\n",
       "      <td>POINT (10.85874 47.79714)</td>\n",
       "    </tr>\n",
       "    <tr>\n",
       "      <th>23</th>\n",
       "      <td>BNA0553</td>\n",
       "      <td>BMHKW-BinderHolz</td>\n",
       "      <td>NaN</td>\n",
       "      <td>NaN</td>\n",
       "      <td>BinderHolz Deutschland GmbH</td>\n",
       "      <td>Einsteinstraße 9</td>\n",
       "      <td>85092</td>\n",
       "      <td>Kösching</td>\n",
       "      <td>Bayern</td>\n",
       "      <td>DE</td>\n",
       "      <td>...</td>\n",
       "      <td>Bioenergy</td>\n",
       "      <td>Biomass and biogas</td>\n",
       "      <td>yes</td>\n",
       "      <td>UW GROM</td>\n",
       "      <td>Hochspannung (HS)</td>\n",
       "      <td>Bayernwerk AG</td>\n",
       "      <td>NaN</td>\n",
       "      <td>NaN</td>\n",
       "      <td>OPSD_conventional_power_plants.xlsx</td>\n",
       "      <td>POINT (11.50679 48.79123)</td>\n",
       "    </tr>\n",
       "    <tr>\n",
       "      <th>30</th>\n",
       "      <td>BNA0692</td>\n",
       "      <td>KWK Neumarkt</td>\n",
       "      <td>NaN</td>\n",
       "      <td>NaN</td>\n",
       "      <td>Pfleiderer Neumarkt GmbH</td>\n",
       "      <td>Dreichlinger Str. 76</td>\n",
       "      <td>92318</td>\n",
       "      <td>Neumarkt i.d. Oberpfalz</td>\n",
       "      <td>Bayern</td>\n",
       "      <td>DE</td>\n",
       "      <td>...</td>\n",
       "      <td>Bioenergy</td>\n",
       "      <td>Biomass and biogas</td>\n",
       "      <td>yes</td>\n",
       "      <td>Übergabe KWK</td>\n",
       "      <td>Mittelspannung (MS)</td>\n",
       "      <td>Stadtwerke Neumarkt i.d.OPf.</td>\n",
       "      <td>NaN</td>\n",
       "      <td>NaN</td>\n",
       "      <td>OPSD_conventional_power_plants.xlsx</td>\n",
       "      <td>POINT (11.45160 49.26133)</td>\n",
       "    </tr>\n",
       "    <tr>\n",
       "      <th>34</th>\n",
       "      <td>BNA0926a</td>\n",
       "      <td>Heizkraftwerk der Sappi Stockstadt GmbH</td>\n",
       "      <td>Biomasseheizkraftwerk</td>\n",
       "      <td>NaN</td>\n",
       "      <td>Sappi Stockstadt GmbH</td>\n",
       "      <td>Obernburger Straße 1-9</td>\n",
       "      <td>63811</td>\n",
       "      <td>Stockstadt</td>\n",
       "      <td>Bayern</td>\n",
       "      <td>DE</td>\n",
       "      <td>...</td>\n",
       "      <td>Bioenergy</td>\n",
       "      <td>Biomass and biogas</td>\n",
       "      <td>yes</td>\n",
       "      <td>Primär Kundenanlage zur betrieblichen Eigenver...</td>\n",
       "      <td>Hochspannung (HS)</td>\n",
       "      <td>Westnetz GmbH</td>\n",
       "      <td>NaN</td>\n",
       "      <td>NaN</td>\n",
       "      <td>OPSD_conventional_power_plants.xlsx</td>\n",
       "      <td>POINT (9.06872 49.97745)</td>\n",
       "    </tr>\n",
       "    <tr>\n",
       "      <th>36</th>\n",
       "      <td>BNA1091</td>\n",
       "      <td>Zolling</td>\n",
       "      <td>BMHKW</td>\n",
       "      <td>NaN</td>\n",
       "      <td>ENGIE Deutschland AG</td>\n",
       "      <td>Leininger Str. 1</td>\n",
       "      <td>85406</td>\n",
       "      <td>Zolling</td>\n",
       "      <td>Bayern</td>\n",
       "      <td>DE</td>\n",
       "      <td>...</td>\n",
       "      <td>Bioenergy</td>\n",
       "      <td>Biomass and biogas</td>\n",
       "      <td>yes</td>\n",
       "      <td>110-kV-Schaltfeld E05 / LS 173</td>\n",
       "      <td>Hochspannung (HS)</td>\n",
       "      <td>Bayernwerk AG</td>\n",
       "      <td>NaN</td>\n",
       "      <td>NaN</td>\n",
       "      <td>OPSD_conventional_power_plants.xlsx</td>\n",
       "      <td>POINT (11.80190 48.45534)</td>\n",
       "    </tr>\n",
       "    <tr>\n",
       "      <th>...</th>\n",
       "      <td>...</td>\n",
       "      <td>...</td>\n",
       "      <td>...</td>\n",
       "      <td>...</td>\n",
       "      <td>...</td>\n",
       "      <td>...</td>\n",
       "      <td>...</td>\n",
       "      <td>...</td>\n",
       "      <td>...</td>\n",
       "      <td>...</td>\n",
       "      <td>...</td>\n",
       "      <td>...</td>\n",
       "      <td>...</td>\n",
       "      <td>...</td>\n",
       "      <td>...</td>\n",
       "      <td>...</td>\n",
       "      <td>...</td>\n",
       "      <td>...</td>\n",
       "      <td>...</td>\n",
       "      <td>...</td>\n",
       "      <td>...</td>\n",
       "    </tr>\n",
       "    <tr>\n",
       "      <th>870</th>\n",
       "      <td>BNA1161</td>\n",
       "      <td>MVA Ingolstadt</td>\n",
       "      <td>Müllheizkraftwerk (MHKW)</td>\n",
       "      <td>NaN</td>\n",
       "      <td>Zweckverband Müllverwertungsanlage Ingolstadt ...</td>\n",
       "      <td>Am Mailinger Bach 141</td>\n",
       "      <td>85055</td>\n",
       "      <td>Ingolstadt</td>\n",
       "      <td>Bayern</td>\n",
       "      <td>DE</td>\n",
       "      <td>...</td>\n",
       "      <td>Waste</td>\n",
       "      <td>NaN</td>\n",
       "      <td>no</td>\n",
       "      <td>DE000314850550000102762000000S013</td>\n",
       "      <td>Mittelspannung (MS)</td>\n",
       "      <td>Stadtwerke Ingolstadt Netze GmbH</td>\n",
       "      <td>NaN</td>\n",
       "      <td>NaN</td>\n",
       "      <td>OPSD_conventional_power_plants.xlsx</td>\n",
       "      <td>POINT (11.49185 48.76450)</td>\n",
       "    </tr>\n",
       "    <tr>\n",
       "      <th>889</th>\n",
       "      <td>BNA1254</td>\n",
       "      <td>Müllkraftwerk Schwandorf</td>\n",
       "      <td>NaN</td>\n",
       "      <td>NaN</td>\n",
       "      <td>Zweckverband Müllverwertung Schwandorf</td>\n",
       "      <td>Alustraße 7</td>\n",
       "      <td>92421</td>\n",
       "      <td>Schwandorf</td>\n",
       "      <td>Bayern</td>\n",
       "      <td>DE</td>\n",
       "      <td>...</td>\n",
       "      <td>Waste</td>\n",
       "      <td>NaN</td>\n",
       "      <td>no</td>\n",
       "      <td>UW Schwandorf</td>\n",
       "      <td>Hochspannung (HS)</td>\n",
       "      <td>Bayernwerk AG</td>\n",
       "      <td>NaN</td>\n",
       "      <td>NaN</td>\n",
       "      <td>OPSD_conventional_power_plants.xlsx</td>\n",
       "      <td>POINT (12.08795 49.30998)</td>\n",
       "    </tr>\n",
       "    <tr>\n",
       "      <th>895</th>\n",
       "      <td>BNA1295</td>\n",
       "      <td>AVA GmbH</td>\n",
       "      <td>AHKW</td>\n",
       "      <td>NaN</td>\n",
       "      <td>AVA Abfallverwertung Augsburg GmbH</td>\n",
       "      <td>Am Mittleren Moos 60</td>\n",
       "      <td>86167</td>\n",
       "      <td>Augsburg</td>\n",
       "      <td>Bayern</td>\n",
       "      <td>DE</td>\n",
       "      <td>...</td>\n",
       "      <td>Waste</td>\n",
       "      <td>NaN</td>\n",
       "      <td>no</td>\n",
       "      <td>V0 BBC06</td>\n",
       "      <td>Hochspannung (HS)</td>\n",
       "      <td>Netze Augsburg GmbH</td>\n",
       "      <td>NaN</td>\n",
       "      <td>NaN</td>\n",
       "      <td>OPSD_conventional_power_plants.xlsx</td>\n",
       "      <td>POINT (10.93560 48.40113)</td>\n",
       "    </tr>\n",
       "    <tr>\n",
       "      <th>899</th>\n",
       "      <td>BNA1449a</td>\n",
       "      <td>Turbosatz 1</td>\n",
       "      <td>NaN</td>\n",
       "      <td>NaN</td>\n",
       "      <td>Zweckverband Abfallwirtschaft Raum Würzburg</td>\n",
       "      <td>Gattingerstr. 31</td>\n",
       "      <td>97076</td>\n",
       "      <td>Würzburg</td>\n",
       "      <td>Bayern</td>\n",
       "      <td>DE</td>\n",
       "      <td>...</td>\n",
       "      <td>Waste</td>\n",
       "      <td>NaN</td>\n",
       "      <td>no</td>\n",
       "      <td>SH 399 MHKW</td>\n",
       "      <td>Mittelspannung (MS)</td>\n",
       "      <td>Mainfranken Netze GmbH</td>\n",
       "      <td>NaN</td>\n",
       "      <td>NaN</td>\n",
       "      <td>OPSD_conventional_power_plants.xlsx</td>\n",
       "      <td>POINT (9.99406 49.79300)</td>\n",
       "    </tr>\n",
       "    <tr>\n",
       "      <th>900</th>\n",
       "      <td>BNA1449b</td>\n",
       "      <td>Turbosatz 2</td>\n",
       "      <td>NaN</td>\n",
       "      <td>NaN</td>\n",
       "      <td>Zweckverband Abfallwirtschaft Raum Würzburg</td>\n",
       "      <td>Gattingerstr. 31</td>\n",
       "      <td>97076</td>\n",
       "      <td>Würzburg</td>\n",
       "      <td>Bayern</td>\n",
       "      <td>DE</td>\n",
       "      <td>...</td>\n",
       "      <td>Waste</td>\n",
       "      <td>NaN</td>\n",
       "      <td>no</td>\n",
       "      <td>SH 399 MHKW</td>\n",
       "      <td>Mittelspannung (MS)</td>\n",
       "      <td>Mainfranken Netze GmbH</td>\n",
       "      <td>NaN</td>\n",
       "      <td>NaN</td>\n",
       "      <td>OPSD_conventional_power_plants.xlsx</td>\n",
       "      <td>POINT (9.99406 49.79300)</td>\n",
       "    </tr>\n",
       "  </tbody>\n",
       "</table>\n",
       "<p>168 rows × 40 columns</p>\n",
       "</div>"
      ],
      "text/plain": [
       "           id                              name_bnetza  \\\n",
       "1     BNA0021                           HKW Altenstadt   \n",
       "23    BNA0553                         BMHKW-BinderHolz   \n",
       "30    BNA0692                             KWK Neumarkt   \n",
       "34   BNA0926a  Heizkraftwerk der Sappi Stockstadt GmbH   \n",
       "36    BNA1091                                  Zolling   \n",
       "..        ...                                      ...   \n",
       "870   BNA1161                           MVA Ingolstadt   \n",
       "889   BNA1254                 Müllkraftwerk Schwandorf   \n",
       "895   BNA1295                                 AVA GmbH   \n",
       "899  BNA1449a                              Turbosatz 1   \n",
       "900  BNA1449b                              Turbosatz 2   \n",
       "\n",
       "                 block_bnetza name_uba  \\\n",
       "1                         NaN      NaN   \n",
       "23                        NaN      NaN   \n",
       "30                        NaN      NaN   \n",
       "34      Biomasseheizkraftwerk      NaN   \n",
       "36                      BMHKW      NaN   \n",
       "..                        ...      ...   \n",
       "870  Müllheizkraftwerk (MHKW)      NaN   \n",
       "889                       NaN      NaN   \n",
       "895                      AHKW      NaN   \n",
       "899                       NaN      NaN   \n",
       "900                       NaN      NaN   \n",
       "\n",
       "                                               company  \\\n",
       "1               Heizkraftwerk Altenstadt GmbH & Co. KG   \n",
       "23                         BinderHolz Deutschland GmbH   \n",
       "30                            Pfleiderer Neumarkt GmbH   \n",
       "34                               Sappi Stockstadt GmbH   \n",
       "36                                ENGIE Deutschland AG   \n",
       "..                                                 ...   \n",
       "870  Zweckverband Müllverwertungsanlage Ingolstadt ...   \n",
       "889             Zweckverband Müllverwertung Schwandorf   \n",
       "895                 AVA Abfallverwertung Augsburg GmbH   \n",
       "899        Zweckverband Abfallwirtschaft Raum Würzburg   \n",
       "900        Zweckverband Abfallwirtschaft Raum Würzburg   \n",
       "\n",
       "                     street postcode                     city   state country  \\\n",
       "1            Triebstraße 90    86972               Altenstadt  Bayern      DE   \n",
       "23         Einsteinstraße 9    85092                 Kösching  Bayern      DE   \n",
       "30     Dreichlinger Str. 76    92318  Neumarkt i.d. Oberpfalz  Bayern      DE   \n",
       "34   Obernburger Straße 1-9    63811               Stockstadt  Bayern      DE   \n",
       "36         Leininger Str. 1    85406                  Zolling  Bayern      DE   \n",
       "..                      ...      ...                      ...     ...     ...   \n",
       "870   Am Mailinger Bach 141    85055               Ingolstadt  Bayern      DE   \n",
       "889             Alustraße 7    92421               Schwandorf  Bayern      DE   \n",
       "895    Am Mittleren Moos 60    86167                 Augsburg  Bayern      DE   \n",
       "899        Gattingerstr. 31    97076                 Würzburg  Bayern      DE   \n",
       "900        Gattingerstr. 31    97076                 Würzburg  Bayern      DE   \n",
       "\n",
       "     ...  energy_source_level_2  energy_source_level_3  eeg  \\\n",
       "1    ...              Bioenergy     Biomass and biogas  yes   \n",
       "23   ...              Bioenergy     Biomass and biogas  yes   \n",
       "30   ...              Bioenergy     Biomass and biogas  yes   \n",
       "34   ...              Bioenergy     Biomass and biogas  yes   \n",
       "36   ...              Bioenergy     Biomass and biogas  yes   \n",
       "..   ...                    ...                    ...  ...   \n",
       "870  ...                  Waste                    NaN   no   \n",
       "889  ...                  Waste                    NaN   no   \n",
       "895  ...                  Waste                    NaN   no   \n",
       "899  ...                  Waste                    NaN   no   \n",
       "900  ...                  Waste                    NaN   no   \n",
       "\n",
       "                                          network_node              voltage  \\\n",
       "1                                                  NaN  Mittelspannung (MS)   \n",
       "23                                             UW GROM    Hochspannung (HS)   \n",
       "30                                        Übergabe KWK  Mittelspannung (MS)   \n",
       "34   Primär Kundenanlage zur betrieblichen Eigenver...    Hochspannung (HS)   \n",
       "36                      110-kV-Schaltfeld E05 / LS 173    Hochspannung (HS)   \n",
       "..                                                 ...                  ...   \n",
       "870                  DE000314850550000102762000000S013  Mittelspannung (MS)   \n",
       "889                                      UW Schwandorf    Hochspannung (HS)   \n",
       "895                                           V0 BBC06    Hochspannung (HS)   \n",
       "899                                        SH 399 MHKW  Mittelspannung (MS)   \n",
       "900                                        SH 399 MHKW  Mittelspannung (MS)   \n",
       "\n",
       "                     network_operator  merge_comment comment  \\\n",
       "1                LEW Verteilnetz GmbH            NaN     NaN   \n",
       "23                      Bayernwerk AG            NaN     NaN   \n",
       "30       Stadtwerke Neumarkt i.d.OPf.            NaN     NaN   \n",
       "34                      Westnetz GmbH            NaN     NaN   \n",
       "36                      Bayernwerk AG            NaN     NaN   \n",
       "..                                ...            ...     ...   \n",
       "870  Stadtwerke Ingolstadt Netze GmbH            NaN     NaN   \n",
       "889                     Bayernwerk AG            NaN     NaN   \n",
       "895               Netze Augsburg GmbH            NaN     NaN   \n",
       "899            Mainfranken Netze GmbH            NaN     NaN   \n",
       "900            Mainfranken Netze GmbH            NaN     NaN   \n",
       "\n",
       "                                  Source                   geometry  \n",
       "1    OPSD_conventional_power_plants.xlsx  POINT (10.85874 47.79714)  \n",
       "23   OPSD_conventional_power_plants.xlsx  POINT (11.50679 48.79123)  \n",
       "30   OPSD_conventional_power_plants.xlsx  POINT (11.45160 49.26133)  \n",
       "34   OPSD_conventional_power_plants.xlsx   POINT (9.06872 49.97745)  \n",
       "36   OPSD_conventional_power_plants.xlsx  POINT (11.80190 48.45534)  \n",
       "..                                   ...                        ...  \n",
       "870  OPSD_conventional_power_plants.xlsx  POINT (11.49185 48.76450)  \n",
       "889  OPSD_conventional_power_plants.xlsx  POINT (12.08795 49.30998)  \n",
       "895  OPSD_conventional_power_plants.xlsx  POINT (10.93560 48.40113)  \n",
       "899  OPSD_conventional_power_plants.xlsx   POINT (9.99406 49.79300)  \n",
       "900  OPSD_conventional_power_plants.xlsx   POINT (9.99406 49.79300)  \n",
       "\n",
       "[168 rows x 40 columns]"
      ]
     },
     "execution_count": 21,
     "metadata": {},
     "output_type": "execute_result"
    }
   ],
   "source": [
    "# set crs epsg=4326\n",
    "gdf_2.set_crs(epsg=4326, inplace=True)"
   ]
  },
  {
   "cell_type": "code",
   "execution_count": 22,
   "metadata": {
    "ExecuteTime": {
     "end_time": "2024-11-05T11:17:01.897815800Z",
     "start_time": "2024-11-05T11:17:01.787403100Z"
    },
    "collapsed": false,
    "jupyter": {
     "outputs_hidden": false
    }
   },
   "outputs": [
    {
     "name": "stderr",
     "output_type": "stream",
     "text": [
      "C:\\Users\\Natalia\\AppData\\Local\\Temp\\ipykernel_21096\\447393407.py:2: UserWarning: Column names longer than 10 characters will be truncated when saved to ESRI Shapefile.\n",
      "  gdf_2.to_file('data/sources/OPSD_conventional_power_plants.shp', driver='ESRI Shapefile')\n"
     ]
    }
   ],
   "source": [
    "# saves the result to a shapefile 'OPSD_conventional_power_plants.shp'\n",
    "gdf_2.to_file('data/sources/OPSD_conventional_power_plants.shp', driver='ESRI Shapefile')"
   ]
  },
  {
   "cell_type": "markdown",
   "metadata": {
    "collapsed": false,
    "jupyter": {
     "outputs_hidden": false
    }
   },
   "source": [
    "3 Energieatlas\n",
    "\n",
    "\n"
   ]
  },
  {
   "cell_type": "code",
   "execution_count": 23,
   "metadata": {
    "ExecuteTime": {
     "end_time": "2024-11-05T11:18:54.120386Z",
     "start_time": "2024-11-05T11:18:54.094469400Z"
    },
    "collapsed": false,
    "jupyter": {
     "outputs_hidden": false
    }
   },
   "outputs": [],
   "source": [
    "# 7 Excel files from the Energieatlas Bayern of the power plants of different types:\n",
    "# biomass, biomethane, fossil, geothermal, kwk, solarthermal, waste."
   ]
  },
  {
   "cell_type": "code",
   "execution_count": 24,
   "metadata": {
    "ExecuteTime": {
     "end_time": "2024-11-05T11:18:54.779456900Z",
     "start_time": "2024-11-05T11:18:54.754672300Z"
    },
    "collapsed": false,
    "jupyter": {
     "outputs_hidden": false
    }
   },
   "outputs": [],
   "source": [
    "# Each file has a column with geometry data 'Geometrie (EWKT)' in a string format\n",
    "# containing crs and a point object: 'SRID=31468;POINT (4575128.048489725 5347063.698786772)'.\n",
    "# SRID=31468 refers to the Gauss-Krüger projection for the Bavarian region in Germany,\n",
    "# which uses meters as the unit of measurement.\n",
    "\n",
    "# The function 'extract_geometry' takes a string,\n",
    "# extract the geometry coordinates from it using a function 'loads' from shapely.wkt module,\n",
    "# recognizes a well-known text (wkt) and takes geometry from it.\n",
    "def extract_geometry(geom_str):\n",
    "    # splits a string by semicolon, takes the 2nd element 'POINT (4575128.048489725 5347063.698786772)' which is a string\n",
    "    wkt_str = geom_str.split(';')[1]\n",
    "    # uses 'loads' function to convert the wkt string into a geometry object\n",
    "    return loads(wkt_str)"
   ]
  },
  {
   "cell_type": "code",
   "execution_count": 25,
   "metadata": {
    "ExecuteTime": {
     "end_time": "2024-11-05T11:18:55.414312900Z",
     "start_time": "2024-11-05T11:18:55.410004900Z"
    },
    "collapsed": false,
    "jupyter": {
     "outputs_hidden": false
    }
   },
   "outputs": [],
   "source": [
    "# Creates a list of 7 Excel files\n",
    "files = [\n",
    "    'data/sources/Energieatlas/energieatlas_biomass.xlsx',\n",
    "    'data/sources/Energieatlas/energieatlas_biomethane.xlsx',\n",
    "    'data/sources/Energieatlas/energieatlas_fossil.xlsx',\n",
    "    'data/sources/Energieatlas/energieatlas_geothermal.xlsx',\n",
    "    'data/sources/Energieatlas/energieatlas_kwk.xlsx',\n",
    "    'data/sources/Energieatlas/energieatlas_solarthermal.xlsx',\n",
    "    'data/sources/Energieatlas/energieatlas_waste.xlsx'\n",
    "]"
   ]
  },
  {
   "cell_type": "code",
   "execution_count": 26,
   "metadata": {
    "ExecuteTime": {
     "end_time": "2024-11-05T11:19:07.094701700Z",
     "start_time": "2024-11-05T11:18:56.088325300Z"
    },
    "collapsed": false,
    "jupyter": {
     "outputs_hidden": false
    }
   },
   "outputs": [
    {
     "name": "stderr",
     "output_type": "stream",
     "text": [
      "C:\\Users\\Natalia\\anaconda3\\envs\\geoanalysis\\Lib\\site-packages\\openpyxl\\styles\\stylesheet.py:237: UserWarning: Workbook contains no default style, apply openpyxl's default\n",
      "  warn(\"Workbook contains no default style, apply openpyxl's default\")\n",
      "C:\\Users\\Natalia\\AppData\\Local\\Temp\\ipykernel_21096\\3533636678.py:19: UserWarning: Column names longer than 10 characters will be truncated when saved to ESRI Shapefile.\n",
      "  gdf_3.to_file(output_file, driver='ESRI Shapefile')\n",
      "C:\\Users\\Natalia\\anaconda3\\envs\\geoanalysis\\Lib\\site-packages\\openpyxl\\styles\\stylesheet.py:237: UserWarning: Workbook contains no default style, apply openpyxl's default\n",
      "  warn(\"Workbook contains no default style, apply openpyxl's default\")\n",
      "C:\\Users\\Natalia\\AppData\\Local\\Temp\\ipykernel_21096\\3533636678.py:19: UserWarning: Column names longer than 10 characters will be truncated when saved to ESRI Shapefile.\n",
      "  gdf_3.to_file(output_file, driver='ESRI Shapefile')\n",
      "C:\\Users\\Natalia\\anaconda3\\envs\\geoanalysis\\Lib\\site-packages\\openpyxl\\styles\\stylesheet.py:237: UserWarning: Workbook contains no default style, apply openpyxl's default\n",
      "  warn(\"Workbook contains no default style, apply openpyxl's default\")\n",
      "C:\\Users\\Natalia\\AppData\\Local\\Temp\\ipykernel_21096\\3533636678.py:19: UserWarning: Column names longer than 10 characters will be truncated when saved to ESRI Shapefile.\n",
      "  gdf_3.to_file(output_file, driver='ESRI Shapefile')\n",
      "C:\\Users\\Natalia\\anaconda3\\envs\\geoanalysis\\Lib\\site-packages\\openpyxl\\styles\\stylesheet.py:237: UserWarning: Workbook contains no default style, apply openpyxl's default\n",
      "  warn(\"Workbook contains no default style, apply openpyxl's default\")\n",
      "C:\\Users\\Natalia\\AppData\\Local\\Temp\\ipykernel_21096\\3533636678.py:19: UserWarning: Column names longer than 10 characters will be truncated when saved to ESRI Shapefile.\n",
      "  gdf_3.to_file(output_file, driver='ESRI Shapefile')\n",
      "C:\\Users\\Natalia\\anaconda3\\envs\\geoanalysis\\Lib\\site-packages\\openpyxl\\styles\\stylesheet.py:237: UserWarning: Workbook contains no default style, apply openpyxl's default\n",
      "  warn(\"Workbook contains no default style, apply openpyxl's default\")\n",
      "C:\\Users\\Natalia\\AppData\\Local\\Temp\\ipykernel_21096\\3533636678.py:19: UserWarning: Column names longer than 10 characters will be truncated when saved to ESRI Shapefile.\n",
      "  gdf_3.to_file(output_file, driver='ESRI Shapefile')\n",
      "C:\\Users\\Natalia\\anaconda3\\envs\\geoanalysis\\Lib\\site-packages\\openpyxl\\styles\\stylesheet.py:237: UserWarning: Workbook contains no default style, apply openpyxl's default\n",
      "  warn(\"Workbook contains no default style, apply openpyxl's default\")\n",
      "C:\\Users\\Natalia\\AppData\\Local\\Temp\\ipykernel_21096\\3533636678.py:19: UserWarning: Column names longer than 10 characters will be truncated when saved to ESRI Shapefile.\n",
      "  gdf_3.to_file(output_file, driver='ESRI Shapefile')\n",
      "C:\\Users\\Natalia\\anaconda3\\envs\\geoanalysis\\Lib\\site-packages\\openpyxl\\styles\\stylesheet.py:237: UserWarning: Workbook contains no default style, apply openpyxl's default\n",
      "  warn(\"Workbook contains no default style, apply openpyxl's default\")\n",
      "C:\\Users\\Natalia\\AppData\\Local\\Temp\\ipykernel_21096\\3533636678.py:19: UserWarning: Column names longer than 10 characters will be truncated when saved to ESRI Shapefile.\n",
      "  gdf_3.to_file(output_file, driver='ESRI Shapefile')\n"
     ]
    }
   ],
   "source": [
    "# Processes multiple Excel files in a loop:\n",
    "# reads, extracts geometry, creates a gpd, sets crs, clears column names, saves in .shp\n",
    "for i, file in enumerate(files):\n",
    "    df_3 = pd.read_excel(file)\n",
    "    file_name_3 = os.path.basename(file)\n",
    "    df_3['Source'] = file_name_3\n",
    "    df_3['geometry'] = df_3['Geometrie (EWKT)'].apply(extract_geometry)\n",
    "    gdf_3 = gpd.GeoDataFrame(df_3, geometry='geometry')\n",
    "    gdf_3.set_crs(epsg=31468, inplace=True)\n",
    "    gdf_3 = gdf_3.to_crs(epsg=4326)\n",
    "\n",
    "    # applies the 'clear_column_names' function created in 'utiles.py':\n",
    "    # replaces umlauts with their ASCII equivalents,\n",
    "    # removes parenthesis, colons, soft hyphens and other special characters\n",
    "    clear_column_names(gdf_3)\n",
    "\n",
    "    file_name = os.path.splitext(os.path.basename(file))[0]\n",
    "    output_file = f'data/sources/{file_name}.shp'\n",
    "    gdf_3.to_file(output_file, driver='ESRI Shapefile')"
   ]
  }
 ],
 "metadata": {
  "kernelspec": {
   "display_name": "Python 3 (ipykernel)",
   "language": "python",
   "name": "python3"
  },
  "language_info": {
   "codemirror_mode": {
    "name": "ipython",
    "version": 3
   },
   "file_extension": ".py",
   "mimetype": "text/x-python",
   "name": "python",
   "nbconvert_exporter": "python",
   "pygments_lexer": "ipython3",
   "version": "3.10.14"
  }
 },
 "nbformat": 4,
 "nbformat_minor": 4
}
