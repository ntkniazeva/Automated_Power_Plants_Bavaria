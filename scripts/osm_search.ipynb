{
 "cells": [
  {
   "cell_type": "code",
   "execution_count": 23,
   "metadata": {
    "collapsed": true,
    "ExecuteTime": {
     "end_time": "2024-12-24T00:38:23.463806200Z",
     "start_time": "2024-12-24T00:38:23.409575700Z"
    }
   },
   "outputs": [],
   "source": [
    "import geopandas as gpd\n",
    "import overpass\n",
    "import os\n",
    "import pandas as pd"
   ]
  },
  {
   "cell_type": "code",
   "execution_count": 24,
   "outputs": [],
   "source": [
    "overpassAPI = overpass.API(timeout=900000)"
   ],
   "metadata": {
    "collapsed": false,
    "ExecuteTime": {
     "end_time": "2024-12-24T00:38:23.465801900Z",
     "start_time": "2024-12-24T00:38:23.418027Z"
    }
   }
  },
  {
   "cell_type": "code",
   "execution_count": 25,
   "outputs": [],
   "source": [
    "# Function is used for evaluation of existing number of heat power values only\n",
    "def replace_NotPowerValues_with_nan(gdf):\n",
    "    for column in gdf.columns:\n",
    "        # Check if the column contains numeric data\n",
    "        if gdf[column].dtype != object:\n",
    "            continue\n",
    "        # Replace values that don't contain 'MW' or 'kW' with NaN\n",
    "        gdf[column] = gdf[column].apply(lambda x: x if ('MW' in str(x) or 'kW' in str(x)) else pd.NA)\n",
    "    return gdf"
   ],
   "metadata": {
    "collapsed": false,
    "ExecuteTime": {
     "end_time": "2024-12-24T00:38:23.529791300Z",
     "start_time": "2024-12-24T00:38:23.426388600Z"
    }
   }
  },
  {
   "cell_type": "code",
   "execution_count": 26,
   "outputs": [],
   "source": [
    "def merge_gdfs_along_row_and_column(gdf1, gdf2):\n",
    "    empty_gdf = gpd.GeoDataFrame()\n",
    "    # columns_merged = pd.merge(gdf1_filtered, gdf2_filtered, how='outer', on='geometry', suffixes=(\"\", \"#\")) # use to get information about how many heat power values exist in the dataframe\n",
    "    columns_merged = pd.merge(gdf1, gdf2, how='outer', on='geometry', suffixes=(\"\", \"#\"))\n",
    "    rows_merged = merge_columns_within_geodataframe(columns_merged, empty_gdf)\n",
    "    return rows_merged"
   ],
   "metadata": {
    "collapsed": false,
    "ExecuteTime": {
     "end_time": "2024-12-24T00:38:23.529791300Z",
     "start_time": "2024-12-24T00:38:23.434757900Z"
    }
   }
  },
  {
   "cell_type": "code",
   "execution_count": 27,
   "outputs": [],
   "source": [
    "def merge_columns_within_geodataframe(gdf, gdf_to_create):\n",
    "    if not gdf.empty:\n",
    "        gdf_copy = gdf.copy()\n",
    "        gdf_copy_index_last_element = gdf_copy.shape[1] - 1\n",
    "        gdf_copy_last_column_name = list(gdf_copy.iloc[:, [gdf_copy_index_last_element]].columns)[0]\n",
    "\n",
    "        for col1 in gdf_copy:\n",
    "            column_to_create = ''\n",
    "            current_column_name = gdf_copy[col1].name\n",
    "            if current_column_name[-1] == '#':\n",
    "                for character in current_column_name:\n",
    "                    if not character == '#':\n",
    "                        column_to_create = column_to_create + character\n",
    "                    else:\n",
    "                        break\n",
    "                for col2 in gdf_copy:  # search for column with equivalent column name (beside suffix)\n",
    "                    current_column_name_2 = gdf_copy[col2].name\n",
    "                    if current_column_name_2 == column_to_create:\n",
    "                        new_series = gdf_copy[col1].combine_first(gdf_copy[col2]).rename(col2, inplace=True)\n",
    "                        gdf_to_create.loc[:, column_to_create] = new_series\n",
    "                        gdf.drop(gdf_copy[col1].name, axis=1, inplace=True)\n",
    "                        gdf.drop(gdf_copy[col2].name, axis=1, inplace=True)\n",
    "                        return merge_columns_within_geodataframe(gdf, gdf_to_create)\n",
    "                    elif current_column_name_2 == gdf_copy_last_column_name:\n",
    "                        gdf_to_create.loc[:, column_to_create] = gdf_copy[current_column_name_2]\n",
    "                        gdf.drop(gdf_copy[current_column_name_2].name, axis=1, inplace=True)\n",
    "                        return merge_columns_within_geodataframe(gdf, gdf_to_create)\n",
    "            elif current_column_name == gdf_copy_last_column_name:\n",
    "                gdf_to_create.loc[:, current_column_name] = gdf_copy[current_column_name]\n",
    "                gdf.drop(gdf_copy[current_column_name].name, axis=1, inplace=True)\n",
    "                return merge_columns_within_geodataframe(gdf, gdf_to_create)\n",
    "\n",
    "    return gdf_to_create"
   ],
   "metadata": {
    "collapsed": false,
    "ExecuteTime": {
     "end_time": "2024-12-24T00:38:23.542143Z",
     "start_time": "2024-12-24T00:38:23.447857100Z"
    }
   }
  },
  {
   "cell_type": "code",
   "execution_count": 28,
   "outputs": [],
   "source": [
    "def filter_result(gdf, interesting_columns):\n",
    "    # Create a copy of the GeoDataFrame\n",
    "    gdf_filtered = gdf.copy()\n",
    "\n",
    "    # Get the columns to be removed\n",
    "    columns_to_remove = []\n",
    "    for col in gdf.columns:\n",
    "        if col not in interesting_columns:\n",
    "            columns_to_remove.append(col)\n",
    "\n",
    "    # Drop the columns from the copy of GeoDataFrame\n",
    "    gdf_filtered.drop(columns=columns_to_remove, axis=1, inplace=True)\n",
    "\n",
    "    return gdf_filtered"
   ],
   "metadata": {
    "collapsed": false,
    "ExecuteTime": {
     "end_time": "2024-12-24T00:38:23.543382400Z",
     "start_time": "2024-12-24T00:38:23.460813700Z"
    }
   }
  },
  {
   "cell_type": "code",
   "execution_count": 29,
   "outputs": [],
   "source": [
    "def transform_non_points_to_points(gdf):\n",
    "    for index, row in gdf.iterrows():\n",
    "        if row['geometry'].geom_type != 'Point':\n",
    "            gdf.at[index, 'geometry'] = row['geometry'].representative_point()\n",
    "    return gdf"
   ],
   "metadata": {
    "collapsed": false,
    "ExecuteTime": {
     "end_time": "2024-12-24T00:38:23.543649300Z",
     "start_time": "2024-12-24T00:38:23.468343200Z"
    }
   }
  },
  {
   "cell_type": "code",
   "execution_count": 30,
   "outputs": [],
   "source": [
    "def delete_rows_with_empty_values(gdf):\n",
    "    mask = gdf.geometry.notnull() & gdf.drop(\"geometry\", axis=1).isnull().all(\n",
    "        axis=1)  # Create a mask to identify rows with only a non-null geometry but empty values in other columns\n",
    "    gdf = gdf.loc[~mask]  # Delete rows that match the mask\n",
    "    gdf = gdf.reset_index(drop=True)\n",
    "\n",
    "    return gdf"
   ],
   "metadata": {
    "collapsed": false,
    "ExecuteTime": {
     "end_time": "2024-12-24T00:38:23.543649300Z",
     "start_time": "2024-12-24T00:38:23.477561300Z"
    }
   }
  },
  {
   "cell_type": "code",
   "execution_count": 31,
   "outputs": [],
   "source": [
    "def osm_query_for_tag_within_bavaria(tag):\n",
    "    overpass_response = overpassAPI.get(\n",
    "        f'area[name=\"Bayern\"][admin_level=4];{tag}(area);(._; >;);', verbosity='geom')\n",
    "    if overpass_response['features']:\n",
    "        gdf_result_1 = gpd.GeoDataFrame.from_features(overpass_response, crs ='4326')\n",
    "        gdf_result_2 = delete_rows_with_empty_values(gdf_result_1)\n",
    "    else:\n",
    "        return gpd.GeoDataFrame(geometry=[])\n",
    "\n",
    "    return transform_non_points_to_points(gdf_result_2)"
   ],
   "metadata": {
    "collapsed": false,
    "ExecuteTime": {
     "end_time": "2024-12-24T00:38:23.543649300Z",
     "start_time": "2024-12-24T00:38:23.483843700Z"
    }
   }
  },
  {
   "cell_type": "code",
   "execution_count": 32,
   "outputs": [],
   "source": [
    " # column filter\n",
    "filter_columns = ['generator:output:steam',\n",
    "                       'generator:output:hot_water',\n",
    "                       'generator:output:heat',\n",
    "                       'generator:output:hot_air',\n",
    "                       'plant:output:hot_water',\n",
    "                       'plant:output:heat',\n",
    "                       'plant:output:steam',\n",
    "                       'plant:output:hot_air',\n",
    "                       'geometry']\n",
    "\n",
    "\n",
    "tag_sources = [\n",
    "    'nw[\"power\"=\"plant\"]',\n",
    "    'nw[\"generator:source\"=\"solar\"]',\n",
    "    'nwr[\"generator:source\"=\"oil\"]',\n",
    "    'nwr[\"generator:source\"=\"gasoline\"]',\n",
    "    'nwr[\"generator:source\"=\"biomass\"]',\n",
    "    'nwr[\"generator:source\"=\"biofuel\"]',\n",
    "    'nwr[\"generator:source\"=\"geothermal\"]',\n",
    "    'nwr[\"generator:source\"=\"waste\"]',\n",
    "    'nwr[\"generator:source\"=\"thermal\"]',\n",
    "    'nwr[\"generator:method\"=\"thermal\"]',\n",
    "    'nwr[\"generator:type\"=\"solar_thermal_collector\"]',\n",
    "    'nwr[\"generator:type\"=\"heat_pump\"]',\n",
    "    'nw[\"plant:source\"=\"solar\"]',\n",
    "    'nwr[\"plant:source\"=\"oil\"]',\n",
    "    'nwr[\"plant:source\"=\"gasoline\"]',\n",
    "    'nwr[\"plant:source\"=\"biofuel\"]',\n",
    "    'nwr[\"plant:source\"=\"geothermal\"]',\n",
    "    'nwr[\"plant:source\"=\"waste\"]',\n",
    "    'nwr[\"plant:source\"=\"thermal\"]',\n",
    "    'nwr[\"plant:method\"=\"thermal\"]',\n",
    "    'nw[\"plant:source\"=\"biomass\"]',\n",
    "    'nwr[\"plant:source:biomass\"]',\n",
    "    'nwr[\"name\"~\"Geothermie\"]',\n",
    "    'nwr[\"industrial\"=\"heating_station\"]'\n",
    "]"
   ],
   "metadata": {
    "collapsed": false,
    "ExecuteTime": {
     "end_time": "2024-12-24T00:38:23.543649300Z",
     "start_time": "2024-12-24T00:38:23.498242800Z"
    }
   }
  },
  {
   "cell_type": "code",
   "execution_count": 33,
   "outputs": [
    {
     "name": "stderr",
     "output_type": "stream",
     "text": [
      "C:\\Users\\Natalia\\anaconda3\\envs\\geoanalysis\\Lib\\site-packages\\pandas\\core\\indexing.py:1857: FutureWarning: You are adding a column named 'geometry' to a GeoDataFrame constructed without an active geometry column. Currently, this automatically sets the active geometry column to 'geometry' but in the future that will no longer happen. Instead, either provide geometry to the GeoDataFrame constructor (GeoDataFrame(... geometry=GeoSeries()) or use `set_geometry('geometry')` to explicitly set the active geometry column.\n",
      "  self.obj[key] = value\n",
      "C:\\Users\\Natalia\\anaconda3\\envs\\geoanalysis\\Lib\\site-packages\\pandas\\core\\indexing.py:1857: FutureWarning: You are adding a column named 'geometry' to a GeoDataFrame constructed without an active geometry column. Currently, this automatically sets the active geometry column to 'geometry' but in the future that will no longer happen. Instead, either provide geometry to the GeoDataFrame constructor (GeoDataFrame(... geometry=GeoSeries()) or use `set_geometry('geometry')` to explicitly set the active geometry column.\n",
      "  self.obj[key] = value\n",
      "C:\\Users\\Natalia\\anaconda3\\envs\\geoanalysis\\Lib\\site-packages\\pandas\\core\\indexing.py:1857: FutureWarning: You are adding a column named 'geometry' to a GeoDataFrame constructed without an active geometry column. Currently, this automatically sets the active geometry column to 'geometry' but in the future that will no longer happen. Instead, either provide geometry to the GeoDataFrame constructor (GeoDataFrame(... geometry=GeoSeries()) or use `set_geometry('geometry')` to explicitly set the active geometry column.\n",
      "  self.obj[key] = value\n",
      "C:\\Users\\Natalia\\anaconda3\\envs\\geoanalysis\\Lib\\site-packages\\pandas\\core\\indexing.py:1857: FutureWarning: You are adding a column named 'geometry' to a GeoDataFrame constructed without an active geometry column. Currently, this automatically sets the active geometry column to 'geometry' but in the future that will no longer happen. Instead, either provide geometry to the GeoDataFrame constructor (GeoDataFrame(... geometry=GeoSeries()) or use `set_geometry('geometry')` to explicitly set the active geometry column.\n",
      "  self.obj[key] = value\n",
      "C:\\Users\\Natalia\\anaconda3\\envs\\geoanalysis\\Lib\\site-packages\\pandas\\core\\indexing.py:1857: FutureWarning: You are adding a column named 'geometry' to a GeoDataFrame constructed without an active geometry column. Currently, this automatically sets the active geometry column to 'geometry' but in the future that will no longer happen. Instead, either provide geometry to the GeoDataFrame constructor (GeoDataFrame(... geometry=GeoSeries()) or use `set_geometry('geometry')` to explicitly set the active geometry column.\n",
      "  self.obj[key] = value\n",
      "C:\\Users\\Natalia\\anaconda3\\envs\\geoanalysis\\Lib\\site-packages\\pandas\\core\\indexing.py:1857: FutureWarning: You are adding a column named 'geometry' to a GeoDataFrame constructed without an active geometry column. Currently, this automatically sets the active geometry column to 'geometry' but in the future that will no longer happen. Instead, either provide geometry to the GeoDataFrame constructor (GeoDataFrame(... geometry=GeoSeries()) or use `set_geometry('geometry')` to explicitly set the active geometry column.\n",
      "  self.obj[key] = value\n",
      "C:\\Users\\Natalia\\anaconda3\\envs\\geoanalysis\\Lib\\site-packages\\pandas\\core\\indexing.py:1857: FutureWarning: You are adding a column named 'geometry' to a GeoDataFrame constructed without an active geometry column. Currently, this automatically sets the active geometry column to 'geometry' but in the future that will no longer happen. Instead, either provide geometry to the GeoDataFrame constructor (GeoDataFrame(... geometry=GeoSeries()) or use `set_geometry('geometry')` to explicitly set the active geometry column.\n",
      "  self.obj[key] = value\n",
      "C:\\Users\\Natalia\\anaconda3\\envs\\geoanalysis\\Lib\\site-packages\\pandas\\core\\indexing.py:1857: FutureWarning: You are adding a column named 'geometry' to a GeoDataFrame constructed without an active geometry column. Currently, this automatically sets the active geometry column to 'geometry' but in the future that will no longer happen. Instead, either provide geometry to the GeoDataFrame constructor (GeoDataFrame(... geometry=GeoSeries()) or use `set_geometry('geometry')` to explicitly set the active geometry column.\n",
      "  self.obj[key] = value\n",
      "C:\\Users\\Natalia\\anaconda3\\envs\\geoanalysis\\Lib\\site-packages\\pandas\\core\\indexing.py:1857: FutureWarning: You are adding a column named 'geometry' to a GeoDataFrame constructed without an active geometry column. Currently, this automatically sets the active geometry column to 'geometry' but in the future that will no longer happen. Instead, either provide geometry to the GeoDataFrame constructor (GeoDataFrame(... geometry=GeoSeries()) or use `set_geometry('geometry')` to explicitly set the active geometry column.\n",
      "  self.obj[key] = value\n",
      "C:\\Users\\Natalia\\anaconda3\\envs\\geoanalysis\\Lib\\site-packages\\pandas\\core\\indexing.py:1857: FutureWarning: You are adding a column named 'geometry' to a GeoDataFrame constructed without an active geometry column. Currently, this automatically sets the active geometry column to 'geometry' but in the future that will no longer happen. Instead, either provide geometry to the GeoDataFrame constructor (GeoDataFrame(... geometry=GeoSeries()) or use `set_geometry('geometry')` to explicitly set the active geometry column.\n",
      "  self.obj[key] = value\n",
      "C:\\Users\\Natalia\\anaconda3\\envs\\geoanalysis\\Lib\\site-packages\\pandas\\core\\indexing.py:1857: FutureWarning: You are adding a column named 'geometry' to a GeoDataFrame constructed without an active geometry column. Currently, this automatically sets the active geometry column to 'geometry' but in the future that will no longer happen. Instead, either provide geometry to the GeoDataFrame constructor (GeoDataFrame(... geometry=GeoSeries()) or use `set_geometry('geometry')` to explicitly set the active geometry column.\n",
      "  self.obj[key] = value\n",
      "C:\\Users\\Natalia\\anaconda3\\envs\\geoanalysis\\Lib\\site-packages\\pandas\\core\\indexing.py:1857: FutureWarning: You are adding a column named 'geometry' to a GeoDataFrame constructed without an active geometry column. Currently, this automatically sets the active geometry column to 'geometry' but in the future that will no longer happen. Instead, either provide geometry to the GeoDataFrame constructor (GeoDataFrame(... geometry=GeoSeries()) or use `set_geometry('geometry')` to explicitly set the active geometry column.\n",
      "  self.obj[key] = value\n",
      "C:\\Users\\Natalia\\anaconda3\\envs\\geoanalysis\\Lib\\site-packages\\pandas\\core\\indexing.py:1857: FutureWarning: You are adding a column named 'geometry' to a GeoDataFrame constructed without an active geometry column. Currently, this automatically sets the active geometry column to 'geometry' but in the future that will no longer happen. Instead, either provide geometry to the GeoDataFrame constructor (GeoDataFrame(... geometry=GeoSeries()) or use `set_geometry('geometry')` to explicitly set the active geometry column.\n",
      "  self.obj[key] = value\n",
      "C:\\Users\\Natalia\\anaconda3\\envs\\geoanalysis\\Lib\\site-packages\\pandas\\core\\indexing.py:1857: FutureWarning: You are adding a column named 'geometry' to a GeoDataFrame constructed without an active geometry column. Currently, this automatically sets the active geometry column to 'geometry' but in the future that will no longer happen. Instead, either provide geometry to the GeoDataFrame constructor (GeoDataFrame(... geometry=GeoSeries()) or use `set_geometry('geometry')` to explicitly set the active geometry column.\n",
      "  self.obj[key] = value\n",
      "C:\\Users\\Natalia\\anaconda3\\envs\\geoanalysis\\Lib\\site-packages\\pandas\\core\\indexing.py:1857: FutureWarning: You are adding a column named 'geometry' to a GeoDataFrame constructed without an active geometry column. Currently, this automatically sets the active geometry column to 'geometry' but in the future that will no longer happen. Instead, either provide geometry to the GeoDataFrame constructor (GeoDataFrame(... geometry=GeoSeries()) or use `set_geometry('geometry')` to explicitly set the active geometry column.\n",
      "  self.obj[key] = value\n",
      "C:\\Users\\Natalia\\anaconda3\\envs\\geoanalysis\\Lib\\site-packages\\pandas\\core\\indexing.py:1857: FutureWarning: You are adding a column named 'geometry' to a GeoDataFrame constructed without an active geometry column. Currently, this automatically sets the active geometry column to 'geometry' but in the future that will no longer happen. Instead, either provide geometry to the GeoDataFrame constructor (GeoDataFrame(... geometry=GeoSeries()) or use `set_geometry('geometry')` to explicitly set the active geometry column.\n",
      "  self.obj[key] = value\n",
      "C:\\Users\\Natalia\\anaconda3\\envs\\geoanalysis\\Lib\\site-packages\\pandas\\core\\indexing.py:1857: FutureWarning: You are adding a column named 'geometry' to a GeoDataFrame constructed without an active geometry column. Currently, this automatically sets the active geometry column to 'geometry' but in the future that will no longer happen. Instead, either provide geometry to the GeoDataFrame constructor (GeoDataFrame(... geometry=GeoSeries()) or use `set_geometry('geometry')` to explicitly set the active geometry column.\n",
      "  self.obj[key] = value\n",
      "C:\\Users\\Natalia\\anaconda3\\envs\\geoanalysis\\Lib\\site-packages\\pandas\\core\\indexing.py:1857: FutureWarning: You are adding a column named 'geometry' to a GeoDataFrame constructed without an active geometry column. Currently, this automatically sets the active geometry column to 'geometry' but in the future that will no longer happen. Instead, either provide geometry to the GeoDataFrame constructor (GeoDataFrame(... geometry=GeoSeries()) or use `set_geometry('geometry')` to explicitly set the active geometry column.\n",
      "  self.obj[key] = value\n",
      "C:\\Users\\Natalia\\anaconda3\\envs\\geoanalysis\\Lib\\site-packages\\pandas\\core\\indexing.py:1857: FutureWarning: You are adding a column named 'geometry' to a GeoDataFrame constructed without an active geometry column. Currently, this automatically sets the active geometry column to 'geometry' but in the future that will no longer happen. Instead, either provide geometry to the GeoDataFrame constructor (GeoDataFrame(... geometry=GeoSeries()) or use `set_geometry('geometry')` to explicitly set the active geometry column.\n",
      "  self.obj[key] = value\n",
      "C:\\Users\\Natalia\\anaconda3\\envs\\geoanalysis\\Lib\\site-packages\\pandas\\core\\indexing.py:1857: FutureWarning: You are adding a column named 'geometry' to a GeoDataFrame constructed without an active geometry column. Currently, this automatically sets the active geometry column to 'geometry' but in the future that will no longer happen. Instead, either provide geometry to the GeoDataFrame constructor (GeoDataFrame(... geometry=GeoSeries()) or use `set_geometry('geometry')` to explicitly set the active geometry column.\n",
      "  self.obj[key] = value\n",
      "C:\\Users\\Natalia\\anaconda3\\envs\\geoanalysis\\Lib\\site-packages\\pandas\\core\\indexing.py:1857: FutureWarning: You are adding a column named 'geometry' to a GeoDataFrame constructed without an active geometry column. Currently, this automatically sets the active geometry column to 'geometry' but in the future that will no longer happen. Instead, either provide geometry to the GeoDataFrame constructor (GeoDataFrame(... geometry=GeoSeries()) or use `set_geometry('geometry')` to explicitly set the active geometry column.\n",
      "  self.obj[key] = value\n",
      "C:\\Users\\Natalia\\anaconda3\\envs\\geoanalysis\\Lib\\site-packages\\pandas\\core\\indexing.py:1857: FutureWarning: You are adding a column named 'geometry' to a GeoDataFrame constructed without an active geometry column. Currently, this automatically sets the active geometry column to 'geometry' but in the future that will no longer happen. Instead, either provide geometry to the GeoDataFrame constructor (GeoDataFrame(... geometry=GeoSeries()) or use `set_geometry('geometry')` to explicitly set the active geometry column.\n",
      "  self.obj[key] = value\n",
      "C:\\Users\\Natalia\\anaconda3\\envs\\geoanalysis\\Lib\\site-packages\\pandas\\core\\indexing.py:1857: FutureWarning: You are adding a column named 'geometry' to a GeoDataFrame constructed without an active geometry column. Currently, this automatically sets the active geometry column to 'geometry' but in the future that will no longer happen. Instead, either provide geometry to the GeoDataFrame constructor (GeoDataFrame(... geometry=GeoSeries()) or use `set_geometry('geometry')` to explicitly set the active geometry column.\n",
      "  self.obj[key] = value\n",
      "C:\\Users\\Natalia\\anaconda3\\envs\\geoanalysis\\Lib\\site-packages\\pandas\\core\\indexing.py:1857: FutureWarning: You are adding a column named 'geometry' to a GeoDataFrame constructed without an active geometry column. Currently, this automatically sets the active geometry column to 'geometry' but in the future that will no longer happen. Instead, either provide geometry to the GeoDataFrame constructor (GeoDataFrame(... geometry=GeoSeries()) or use `set_geometry('geometry')` to explicitly set the active geometry column.\n",
      "  self.obj[key] = value\n"
     ]
    }
   ],
   "source": [
    "df_result = gpd.GeoDataFrame()\n",
    "df_result = df_result.set_geometry([])\n",
    "for tag in tag_sources:\n",
    "    df_osm = filter_result(osm_query_for_tag_within_bavaria(tag), filter_columns)\n",
    "    df_result = merge_gdfs_along_row_and_column(df_result, df_osm)"
   ],
   "metadata": {
    "collapsed": false,
    "ExecuteTime": {
     "end_time": "2024-12-24T00:39:39.452177500Z",
     "start_time": "2024-12-24T00:38:23.504636Z"
    }
   }
  },
  {
   "cell_type": "code",
   "execution_count": 34,
   "outputs": [],
   "source": [
    "df_result = delete_rows_with_empty_values(df_result)"
   ],
   "metadata": {
    "collapsed": false,
    "ExecuteTime": {
     "end_time": "2024-12-24T00:39:39.500987700Z",
     "start_time": "2024-12-24T00:39:39.454173400Z"
    }
   }
  },
  {
   "cell_type": "code",
   "execution_count": 35,
   "outputs": [],
   "source": [
    "# Add a new column with the name of a source\n",
    "df_result['Source'] = 'OSM'"
   ],
   "metadata": {
    "collapsed": false,
    "ExecuteTime": {
     "end_time": "2024-12-24T00:39:39.502018600Z",
     "start_time": "2024-12-24T00:39:39.491984200Z"
    }
   }
  },
  {
   "cell_type": "code",
   "execution_count": 36,
   "outputs": [
    {
     "name": "stdout",
     "output_type": "stream",
     "text": [
      "<class 'geopandas.geodataframe.GeoDataFrame'>\n",
      "RangeIndex: 192 entries, 0 to 191\n",
      "Data columns (total 10 columns):\n",
      " #   Column                      Non-Null Count  Dtype   \n",
      "---  ------                      --------------  -----   \n",
      " 0   generator:output:hot_water  59 non-null     object  \n",
      " 1   plant:output:hot_water      82 non-null     object  \n",
      " 2   generator:output:heat       31 non-null     object  \n",
      " 3   generator:output:steam      6 non-null      object  \n",
      " 4   geometry                    192 non-null    geometry\n",
      " 5   generator:output:hot_air    2 non-null      object  \n",
      " 6   plant:output:hot_air        2 non-null      object  \n",
      " 7   plant:output:steam          4 non-null      object  \n",
      " 8   plant:output:heat           11 non-null     object  \n",
      " 9   Source                      192 non-null    object  \n",
      "dtypes: geometry(1), object(9)\n",
      "memory usage: 15.1+ KB\n"
     ]
    }
   ],
   "source": [
    "df_result.info()"
   ],
   "metadata": {
    "collapsed": false,
    "ExecuteTime": {
     "end_time": "2024-12-24T00:39:39.542722700Z",
     "start_time": "2024-12-24T00:39:39.502018600Z"
    }
   }
  },
  {
   "cell_type": "code",
   "execution_count": 38,
   "outputs": [
    {
     "data": {
      "text/plain": "    generator:output:hot_water plant:output:hot_water generator:output:heat  \\\n0                          NaN                    yes                   NaN   \n1                          yes                    NaN                   NaN   \n2                          NaN                    yes                   NaN   \n3                          NaN                    NaN                   yes   \n4                          NaN                    NaN                   NaN   \n..                         ...                    ...                   ...   \n187                        NaN                1450 kW                   NaN   \n188                        NaN                    NaN                   NaN   \n189                        NaN                 462 MW                   NaN   \n190                        yes                    NaN                   NaN   \n191                        NaN                    NaN                   NaN   \n\n    generator:output:steam                   geometry  \\\n0                      NaN  POINT (13.11807 48.67130)   \n1                      NaN  POINT (11.28332 47.94538)   \n2                      NaN  POINT (12.64437 47.87334)   \n3                      NaN  POINT (10.54386 49.66300)   \n4                      NaN  POINT (10.03098 48.42478)   \n..                     ...                        ...   \n187                    NaN  POINT (11.88405 48.03504)   \n188                    NaN  POINT (11.98851 47.88139)   \n189                    NaN  POINT (11.06025 49.43830)   \n190                    NaN  POINT (13.24986 48.65868)   \n191                    NaN  POINT (12.86829 48.80025)   \n\n    generator:output:hot_air plant:output:hot_air plant:output:steam  \\\n0                        NaN                  NaN                NaN   \n1                        NaN                  NaN                NaN   \n2                        NaN                  NaN                NaN   \n3                        NaN                  NaN                NaN   \n4                        NaN                  NaN                yes   \n..                       ...                  ...                ...   \n187                      NaN                  NaN                NaN   \n188                      NaN                10 MW                NaN   \n189                      NaN                  NaN                NaN   \n190                      NaN                  NaN                NaN   \n191                      NaN                  NaN             150 MW   \n\n    plant:output:heat Source  \n0                 NaN    OSM  \n1                 NaN    OSM  \n2                 NaN    OSM  \n3                 NaN    OSM  \n4                 NaN    OSM  \n..                ...    ...  \n187               NaN    OSM  \n188               NaN    OSM  \n189               NaN    OSM  \n190               NaN    OSM  \n191               NaN    OSM  \n\n[192 rows x 10 columns]",
      "text/html": "<div>\n<style scoped>\n    .dataframe tbody tr th:only-of-type {\n        vertical-align: middle;\n    }\n\n    .dataframe tbody tr th {\n        vertical-align: top;\n    }\n\n    .dataframe thead th {\n        text-align: right;\n    }\n</style>\n<table border=\"1\" class=\"dataframe\">\n  <thead>\n    <tr style=\"text-align: right;\">\n      <th></th>\n      <th>generator:output:hot_water</th>\n      <th>plant:output:hot_water</th>\n      <th>generator:output:heat</th>\n      <th>generator:output:steam</th>\n      <th>geometry</th>\n      <th>generator:output:hot_air</th>\n      <th>plant:output:hot_air</th>\n      <th>plant:output:steam</th>\n      <th>plant:output:heat</th>\n      <th>Source</th>\n    </tr>\n  </thead>\n  <tbody>\n    <tr>\n      <th>0</th>\n      <td>NaN</td>\n      <td>yes</td>\n      <td>NaN</td>\n      <td>NaN</td>\n      <td>POINT (13.11807 48.67130)</td>\n      <td>NaN</td>\n      <td>NaN</td>\n      <td>NaN</td>\n      <td>NaN</td>\n      <td>OSM</td>\n    </tr>\n    <tr>\n      <th>1</th>\n      <td>yes</td>\n      <td>NaN</td>\n      <td>NaN</td>\n      <td>NaN</td>\n      <td>POINT (11.28332 47.94538)</td>\n      <td>NaN</td>\n      <td>NaN</td>\n      <td>NaN</td>\n      <td>NaN</td>\n      <td>OSM</td>\n    </tr>\n    <tr>\n      <th>2</th>\n      <td>NaN</td>\n      <td>yes</td>\n      <td>NaN</td>\n      <td>NaN</td>\n      <td>POINT (12.64437 47.87334)</td>\n      <td>NaN</td>\n      <td>NaN</td>\n      <td>NaN</td>\n      <td>NaN</td>\n      <td>OSM</td>\n    </tr>\n    <tr>\n      <th>3</th>\n      <td>NaN</td>\n      <td>NaN</td>\n      <td>yes</td>\n      <td>NaN</td>\n      <td>POINT (10.54386 49.66300)</td>\n      <td>NaN</td>\n      <td>NaN</td>\n      <td>NaN</td>\n      <td>NaN</td>\n      <td>OSM</td>\n    </tr>\n    <tr>\n      <th>4</th>\n      <td>NaN</td>\n      <td>NaN</td>\n      <td>NaN</td>\n      <td>NaN</td>\n      <td>POINT (10.03098 48.42478)</td>\n      <td>NaN</td>\n      <td>NaN</td>\n      <td>yes</td>\n      <td>NaN</td>\n      <td>OSM</td>\n    </tr>\n    <tr>\n      <th>...</th>\n      <td>...</td>\n      <td>...</td>\n      <td>...</td>\n      <td>...</td>\n      <td>...</td>\n      <td>...</td>\n      <td>...</td>\n      <td>...</td>\n      <td>...</td>\n      <td>...</td>\n    </tr>\n    <tr>\n      <th>187</th>\n      <td>NaN</td>\n      <td>1450 kW</td>\n      <td>NaN</td>\n      <td>NaN</td>\n      <td>POINT (11.88405 48.03504)</td>\n      <td>NaN</td>\n      <td>NaN</td>\n      <td>NaN</td>\n      <td>NaN</td>\n      <td>OSM</td>\n    </tr>\n    <tr>\n      <th>188</th>\n      <td>NaN</td>\n      <td>NaN</td>\n      <td>NaN</td>\n      <td>NaN</td>\n      <td>POINT (11.98851 47.88139)</td>\n      <td>NaN</td>\n      <td>10 MW</td>\n      <td>NaN</td>\n      <td>NaN</td>\n      <td>OSM</td>\n    </tr>\n    <tr>\n      <th>189</th>\n      <td>NaN</td>\n      <td>462 MW</td>\n      <td>NaN</td>\n      <td>NaN</td>\n      <td>POINT (11.06025 49.43830)</td>\n      <td>NaN</td>\n      <td>NaN</td>\n      <td>NaN</td>\n      <td>NaN</td>\n      <td>OSM</td>\n    </tr>\n    <tr>\n      <th>190</th>\n      <td>yes</td>\n      <td>NaN</td>\n      <td>NaN</td>\n      <td>NaN</td>\n      <td>POINT (13.24986 48.65868)</td>\n      <td>NaN</td>\n      <td>NaN</td>\n      <td>NaN</td>\n      <td>NaN</td>\n      <td>OSM</td>\n    </tr>\n    <tr>\n      <th>191</th>\n      <td>NaN</td>\n      <td>NaN</td>\n      <td>NaN</td>\n      <td>NaN</td>\n      <td>POINT (12.86829 48.80025)</td>\n      <td>NaN</td>\n      <td>NaN</td>\n      <td>150 MW</td>\n      <td>NaN</td>\n      <td>OSM</td>\n    </tr>\n  </tbody>\n</table>\n<p>192 rows × 10 columns</p>\n</div>"
     },
     "execution_count": 38,
     "metadata": {},
     "output_type": "execute_result"
    }
   ],
   "source": [
    "df_result"
   ],
   "metadata": {
    "collapsed": false,
    "ExecuteTime": {
     "end_time": "2024-12-24T00:47:17.050122600Z",
     "start_time": "2024-12-24T00:47:17.022820900Z"
    }
   }
  },
  {
   "cell_type": "code",
   "execution_count": 37,
   "outputs": [
    {
     "name": "stderr",
     "output_type": "stream",
     "text": [
      "C:\\Users\\Natalia\\AppData\\Local\\Temp\\ipykernel_12692\\4224148643.py:2: UserWarning: Column names longer than 10 characters will be truncated when saved to ESRI Shapefile.\n",
      "  df_result.to_file(os.path.join(save_path, \"results_osm_search.shp\"), encoding='utf-8')\n"
     ]
    }
   ],
   "source": [
    "save_path = 'data/sources'\n",
    "df_result.to_file(os.path.join(save_path, \"results_osm_search.shp\"), encoding='utf-8')"
   ],
   "metadata": {
    "collapsed": false,
    "ExecuteTime": {
     "end_time": "2024-12-24T00:39:40.126414Z",
     "start_time": "2024-12-24T00:39:39.534745300Z"
    }
   }
  }
 ],
 "metadata": {
  "kernelspec": {
   "display_name": "Python 3",
   "language": "python",
   "name": "python3"
  },
  "language_info": {
   "codemirror_mode": {
    "name": "ipython",
    "version": 2
   },
   "file_extension": ".py",
   "mimetype": "text/x-python",
   "name": "python",
   "nbconvert_exporter": "python",
   "pygments_lexer": "ipython2",
   "version": "2.7.6"
  }
 },
 "nbformat": 4,
 "nbformat_minor": 0
}
