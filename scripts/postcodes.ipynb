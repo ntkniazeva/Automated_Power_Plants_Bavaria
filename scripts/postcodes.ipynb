{
 "cells": [
  {
   "cell_type": "code",
   "execution_count": 42,
   "metadata": {
    "collapsed": true,
    "ExecuteTime": {
     "end_time": "2024-10-29T09:43:25.521655Z",
     "start_time": "2024-10-29T09:43:25.199154500Z"
    }
   },
   "outputs": [],
   "source": [
    "import pandas as pd\n",
    "\n",
    "# Чтение базы почтовых индексов GeoNames\n",
    "df_postcodes = pd.read_csv('../data/Germany_postcodes/Germany_postcodes.txt', sep='\\t', header=None)\n",
    "df_postcodes.columns = ['country_code', 'postal_code', 'place_name', 'admin_name1', 'admin_code1', 'admin_name2', 'admin_code2', 'admin_name3', 'admin_code3', 'latitude', 'longitude', 'accuracy']\n",
    "bavaria_postcodes = df_postcodes[df_postcodes['admin_name1'] == 'Bayern']\n",
    "bavaria_postcode_list = bavaria_postcodes['postal_code'].unique().tolist()"
   ]
  },
  {
   "cell_type": "code",
   "execution_count": 43,
   "outputs": [
    {
     "name": "stdout",
     "output_type": "stream",
     "text": [
      "2076\n"
     ]
    }
   ],
   "source": [
    "print(len(bavaria_postcode_list))"
   ],
   "metadata": {
    "collapsed": false,
    "ExecuteTime": {
     "end_time": "2024-10-29T09:43:25.542634900Z",
     "start_time": "2024-10-29T09:43:25.527668500Z"
    }
   }
  },
  {
   "cell_type": "code",
   "execution_count": 44,
   "outputs": [
    {
     "data": {
      "text/plain": "int"
     },
     "execution_count": 44,
     "metadata": {},
     "output_type": "execute_result"
    }
   ],
   "source": [
    "type(bavaria_postcode_list[1070])"
   ],
   "metadata": {
    "collapsed": false,
    "ExecuteTime": {
     "end_time": "2024-10-29T09:43:25.627113900Z",
     "start_time": "2024-10-29T09:43:25.543631800Z"
    }
   }
  },
  {
   "cell_type": "code",
   "execution_count": 45,
   "outputs": [],
   "source": [
    "# Filter plz_5stellig.geojson from https://www.suche-postleitzahl.org/downloads by plz.\n",
    "# Take plz for Bayern from bavaria_postcode_list\n",
    "\n",
    "# import geopandas as gpd\n",
    "#\n",
    "# gdf = gpd.read_file('../data/plz_5stellig.geojson') # read geojson file\n",
    "#\n",
    "# # Преобразование столбца plz к целочисленному типу\n",
    "# gdf['plz'] = gdf['plz'].astype(int)\n",
    "#\n",
    "# # Фильтрация по почтовым индексам, принадлежащим Баварии\n",
    "# filtered_gdf = gdf[gdf['plz'].isin(bavaria_postcode_list)]\n",
    "#\n",
    "# # Проверка на пустоту\n",
    "# if not filtered_gdf.empty:\n",
    "#     # Сохранение отфильтрованных данных в новый GeoJSON файл\n",
    "#     filtered_gdf.to_file('../data/bayern_postcodes_plz_5stellig.geojson', driver='GeoJSON')\n",
    "# else:\n",
    "#     print(\"Отфильтрованный GeoDataFrame пуст. Проверьте совпадение почтовых индексов.\")"
   ],
   "metadata": {
    "collapsed": false,
    "ExecuteTime": {
     "end_time": "2024-10-29T09:45:00.944595400Z",
     "start_time": "2024-10-29T09:43:25.565852300Z"
    }
   }
  },
  {
   "cell_type": "code",
   "execution_count": 46,
   "outputs": [
    {
     "name": "stdout",
     "output_type": "stream",
     "text": [
      "2060\n"
     ]
    }
   ],
   "source": [
    "# gdf_bayern_postcodes_plz_5stellig = gpd.read_file('../data/bayern_postcodes_plz_5stellig.geojson')\n",
    "# print(len(gdf_bayern_postcodes_plz_5stellig))"
   ],
   "metadata": {
    "collapsed": false,
    "ExecuteTime": {
     "end_time": "2024-10-29T09:45:34.453612300Z",
     "start_time": "2024-10-29T09:45:12.544807500Z"
    }
   }
  },
  {
   "cell_type": "code",
   "execution_count": 47,
   "outputs": [
    {
     "name": "stdout",
     "output_type": "stream",
     "text": [
      "Уникальных почтовых индексов: 2060\n",
      "Общее количество почтовых индексов: 2060\n"
     ]
    }
   ],
   "source": [
    "# unique_postcodes_1 = gdf_bayern_postcodes_plz_5stellig['plz'].nunique()  # Количество уникальных индексов\n",
    "# total_postcodes_1 = gdf_bayern_postcodes_plz_5stellig['plz'].count()     # Общее количество индексов\n",
    "#\n",
    "# print(f\"Уникальных почтовых индексов: {unique_postcodes_1}\")\n",
    "# print(f\"Общее количество почтовых индексов: {total_postcodes_1}\")"
   ],
   "metadata": {
    "collapsed": false,
    "ExecuteTime": {
     "end_time": "2024-10-29T09:45:34.480939300Z",
     "start_time": "2024-10-29T09:45:34.463583800Z"
    }
   }
  },
  {
   "cell_type": "code",
   "execution_count": 48,
   "outputs": [
    {
     "name": "stdout",
     "output_type": "stream",
     "text": [
      "2070\n"
     ]
    }
   ],
   "source": [
    "gdf_bayern_postcodes_overpass_turbo = gpd.read_file('../data/bayern_postcodes_overpass_turbo.geojson')\n",
    "print(len(gdf_bayern_postcodes_overpass_turbo))"
   ],
   "metadata": {
    "collapsed": false,
    "ExecuteTime": {
     "end_time": "2024-10-29T09:46:22.160394300Z",
     "start_time": "2024-10-29T09:45:34.484932900Z"
    }
   }
  },
  {
   "cell_type": "code",
   "execution_count": 56,
   "outputs": [
    {
     "name": "stdout",
     "output_type": "stream",
     "text": [
      "2060\n"
     ]
    }
   ],
   "source": [
    "filtered_bayern_postcodes_overpass_turbo = gdf_bayern_postcodes_overpass_turbo[gdf_bayern_postcodes_overpass_turbo['postal_code'].astype(int).isin(bavaria_postcode_list)]\n",
    "print(len(filtered_bayern_postcodes_overpass_turbo))"
   ],
   "metadata": {
    "collapsed": false,
    "ExecuteTime": {
     "end_time": "2024-10-29T09:56:25.764300500Z",
     "start_time": "2024-10-29T09:56:25.633410Z"
    }
   }
  },
  {
   "cell_type": "code",
   "execution_count": 49,
   "outputs": [
    {
     "name": "stdout",
     "output_type": "stream",
     "text": [
      "Уникальных почтовых индексов: 2070\n",
      "Общее количество почтовых индексов: 2070\n",
      "Общее количество пустых индексов: 0\n"
     ]
    }
   ],
   "source": [
    "unique_postcodes_2 = gdf_bayern_postcodes_overpass_turbo['postal_code'].nunique()  # Количество уникальных индексов\n",
    "total_postcodes_2 = gdf_bayern_postcodes_overpass_turbo['postal_code'].count()     # Общее количество индексов\n",
    "nan_postcodes = gdf_bayern_postcodes_overpass_turbo['postal_code'].isna().sum()\n",
    "\n",
    "print(f\"Уникальных почтовых индексов: {unique_postcodes_2}\")\n",
    "print(f\"Общее количество почтовых индексов: {total_postcodes_2}\")\n",
    "print(f\"Общее количество пустых индексов: {nan_postcodes}\")"
   ],
   "metadata": {
    "collapsed": false,
    "ExecuteTime": {
     "end_time": "2024-10-29T09:46:22.184855400Z",
     "start_time": "2024-10-29T09:46:22.172512700Z"
    }
   }
  },
  {
   "cell_type": "code",
   "execution_count": 50,
   "outputs": [
    {
     "data": {
      "text/plain": "                id              @id TMC:cid_58:tabcd_1:Class     boundary  \\\n0  relation/387540  relation/387540                     None  postal_code   \n1  relation/534826  relation/534826                     None  postal_code   \n2  relation/534828  relation/534828                     None  postal_code   \n3  relation/534829  relation/534829                     None  postal_code   \n4  relation/534847  relation/534847                     None  postal_code   \n\n  fixme  name name:sk                 note postal_code postal_code_level  \\\n0  None  None    None  63869 Heigenbrücken       63869                 8   \n1  None  None    None     63856 Bessenbach       63856                 8   \n2  None  None    None       63874 Dammbach       63874                 8   \n3  None  None    None     63826 Geiselbach       63826                 8   \n4  None  None    None      63864 Glattbach       63864                 8   \n\n    ref service source      type wikidata  \\\n0  None    None   None  boundary     None   \n1  None    None   None  boundary     None   \n2  None    None   None  boundary     None   \n3  None    None   None  boundary     None   \n4  None    None   None  boundary     None   \n\n                                            geometry  \n0  POLYGON ((9.39894 50.01473, 9.39839 50.01475, ...  \n1  POLYGON ((9.24700 49.92629, 9.24736 49.92670, ...  \n2  POLYGON ((9.28832 49.86678, 9.28812 49.86670, ...  \n3  POLYGON ((9.17480 50.11408, 9.17463 50.11411, ...  \n4  POLYGON ((9.12653 50.01416, 9.12693 50.01370, ...  ",
      "text/html": "<div>\n<style scoped>\n    .dataframe tbody tr th:only-of-type {\n        vertical-align: middle;\n    }\n\n    .dataframe tbody tr th {\n        vertical-align: top;\n    }\n\n    .dataframe thead th {\n        text-align: right;\n    }\n</style>\n<table border=\"1\" class=\"dataframe\">\n  <thead>\n    <tr style=\"text-align: right;\">\n      <th></th>\n      <th>id</th>\n      <th>@id</th>\n      <th>TMC:cid_58:tabcd_1:Class</th>\n      <th>boundary</th>\n      <th>fixme</th>\n      <th>name</th>\n      <th>name:sk</th>\n      <th>note</th>\n      <th>postal_code</th>\n      <th>postal_code_level</th>\n      <th>ref</th>\n      <th>service</th>\n      <th>source</th>\n      <th>type</th>\n      <th>wikidata</th>\n      <th>geometry</th>\n    </tr>\n  </thead>\n  <tbody>\n    <tr>\n      <th>0</th>\n      <td>relation/387540</td>\n      <td>relation/387540</td>\n      <td>None</td>\n      <td>postal_code</td>\n      <td>None</td>\n      <td>None</td>\n      <td>None</td>\n      <td>63869 Heigenbrücken</td>\n      <td>63869</td>\n      <td>8</td>\n      <td>None</td>\n      <td>None</td>\n      <td>None</td>\n      <td>boundary</td>\n      <td>None</td>\n      <td>POLYGON ((9.39894 50.01473, 9.39839 50.01475, ...</td>\n    </tr>\n    <tr>\n      <th>1</th>\n      <td>relation/534826</td>\n      <td>relation/534826</td>\n      <td>None</td>\n      <td>postal_code</td>\n      <td>None</td>\n      <td>None</td>\n      <td>None</td>\n      <td>63856 Bessenbach</td>\n      <td>63856</td>\n      <td>8</td>\n      <td>None</td>\n      <td>None</td>\n      <td>None</td>\n      <td>boundary</td>\n      <td>None</td>\n      <td>POLYGON ((9.24700 49.92629, 9.24736 49.92670, ...</td>\n    </tr>\n    <tr>\n      <th>2</th>\n      <td>relation/534828</td>\n      <td>relation/534828</td>\n      <td>None</td>\n      <td>postal_code</td>\n      <td>None</td>\n      <td>None</td>\n      <td>None</td>\n      <td>63874 Dammbach</td>\n      <td>63874</td>\n      <td>8</td>\n      <td>None</td>\n      <td>None</td>\n      <td>None</td>\n      <td>boundary</td>\n      <td>None</td>\n      <td>POLYGON ((9.28832 49.86678, 9.28812 49.86670, ...</td>\n    </tr>\n    <tr>\n      <th>3</th>\n      <td>relation/534829</td>\n      <td>relation/534829</td>\n      <td>None</td>\n      <td>postal_code</td>\n      <td>None</td>\n      <td>None</td>\n      <td>None</td>\n      <td>63826 Geiselbach</td>\n      <td>63826</td>\n      <td>8</td>\n      <td>None</td>\n      <td>None</td>\n      <td>None</td>\n      <td>boundary</td>\n      <td>None</td>\n      <td>POLYGON ((9.17480 50.11408, 9.17463 50.11411, ...</td>\n    </tr>\n    <tr>\n      <th>4</th>\n      <td>relation/534847</td>\n      <td>relation/534847</td>\n      <td>None</td>\n      <td>postal_code</td>\n      <td>None</td>\n      <td>None</td>\n      <td>None</td>\n      <td>63864 Glattbach</td>\n      <td>63864</td>\n      <td>8</td>\n      <td>None</td>\n      <td>None</td>\n      <td>None</td>\n      <td>boundary</td>\n      <td>None</td>\n      <td>POLYGON ((9.12653 50.01416, 9.12693 50.01370, ...</td>\n    </tr>\n  </tbody>\n</table>\n</div>"
     },
     "execution_count": 50,
     "metadata": {},
     "output_type": "execute_result"
    }
   ],
   "source": [
    "gdf_bayern_postcodes_overpass_turbo.head()"
   ],
   "metadata": {
    "collapsed": false,
    "ExecuteTime": {
     "end_time": "2024-10-29T09:46:22.293162300Z",
     "start_time": "2024-10-29T09:46:22.205799300Z"
    }
   }
  },
  {
   "cell_type": "code",
   "execution_count": 51,
   "outputs": [
    {
     "name": "stdout",
     "output_type": "stream",
     "text": [
      "<class 'geopandas.geodataframe.GeoDataFrame'>\n",
      "RangeIndex: 2070 entries, 0 to 2069\n",
      "Data columns (total 16 columns):\n",
      " #   Column                    Non-Null Count  Dtype   \n",
      "---  ------                    --------------  -----   \n",
      " 0   id                        2070 non-null   object  \n",
      " 1   @id                       2070 non-null   object  \n",
      " 2   TMC:cid_58:tabcd_1:Class  1 non-null      object  \n",
      " 3   boundary                  2070 non-null   object  \n",
      " 4   fixme                     32 non-null     object  \n",
      " 5   name                      61 non-null     object  \n",
      " 6   name:sk                   2 non-null      object  \n",
      " 7   note                      2070 non-null   object  \n",
      " 8   postal_code               2070 non-null   object  \n",
      " 9   postal_code_level         2070 non-null   object  \n",
      " 10  ref                       18 non-null     object  \n",
      " 11  service                   2 non-null      object  \n",
      " 12  source                    1502 non-null   object  \n",
      " 13  type                      2070 non-null   object  \n",
      " 14  wikidata                  1 non-null      object  \n",
      " 15  geometry                  2070 non-null   geometry\n",
      "dtypes: geometry(1), object(15)\n",
      "memory usage: 258.9+ KB\n"
     ]
    }
   ],
   "source": [
    "gdf_bayern_postcodes_overpass_turbo.info()"
   ],
   "metadata": {
    "collapsed": false,
    "ExecuteTime": {
     "end_time": "2024-10-29T09:46:22.456360100Z",
     "start_time": "2024-10-29T09:46:22.275962900Z"
    }
   }
  },
  {
   "cell_type": "code",
   "execution_count": 54,
   "outputs": [
    {
     "name": "stdout",
     "output_type": "stream",
     "text": [
      "Отсутствующие почтовые индексы:\n",
      "{83552, 83489, 97412, 94565, 89444, 89449, 82282, 94155, 83565, 82032, 83344, 85655, 89432, 90457, 83739, 83359}\n"
     ]
    }
   ],
   "source": [
    "# Преобразуем в множество для удобства сравнения\n",
    "set_bayern_postcodes_overpass_turbo = set(gdf_bayern_postcodes_overpass_turbo['postal_code'].astype(int))\n",
    "\n",
    "# Преобразование списка bavaria_postcode_list в множество\n",
    "set_bavaria_postcode = set(bavaria_postcode_list)\n",
    "\n",
    "# Выявление отсутствующих индексов\n",
    "missing_postcodes_1 = set_bavaria_postcode - set_bayern_postcodes_overpass_turbo\n",
    "\n",
    "# Вывод отсутствующих индексов\n",
    "if missing_postcodes_1:\n",
    "    print(\"Отсутствующие почтовые индексы:\")\n",
    "    print(missing_postcodes_1)\n",
    "else:\n",
    "    print(\"Все почтовые индексы присутствуют в GeoJSON файле.\")"
   ],
   "metadata": {
    "collapsed": false,
    "ExecuteTime": {
     "end_time": "2024-10-29T09:46:22.598172500Z",
     "start_time": "2024-10-29T09:46:22.465837200Z"
    }
   }
  },
  {
   "cell_type": "code",
   "execution_count": 55,
   "outputs": [
    {
     "name": "stdout",
     "output_type": "stream",
     "text": [
      "Отсутствующие почтовые индексы:\n",
      "{83552, 83489, 97412, 94565, 89444, 89449, 82282, 94155, 83565, 82032, 83344, 85655, 89432, 90457, 83739, 83359}\n"
     ]
    }
   ],
   "source": [
    "# # Преобразуем в множество для удобства сравнения\n",
    "# set_bayern_postcodes_plz_5stellig = set(gdf_bayern_postcodes_plz_5stellig['plz'])\n",
    "#\n",
    "# # Преобразование списка bavaria_postcode_list в множество\n",
    "# set_bavaria_postcode = set(bavaria_postcode_list)\n",
    "#\n",
    "# # Выявление отсутствующих индексов\n",
    "# missing_postcodes_2 = set_bavaria_postcode - set_bayern_postcodes_plz_5stellig\n",
    "#\n",
    "# # Вывод отсутствующих индексов\n",
    "# if missing_postcodes_2:\n",
    "#     print(\"Отсутствующие почтовые индексы:\")\n",
    "#     print(missing_postcodes_2)\n",
    "# else:\n",
    "#     print(\"Все почтовые индексы присутствуют в GeoJSON файле.\")"
   ],
   "metadata": {
    "collapsed": false,
    "ExecuteTime": {
     "end_time": "2024-10-29T09:46:22.643643100Z",
     "start_time": "2024-10-29T09:46:22.500207300Z"
    }
   }
  }
 ],
 "metadata": {
  "kernelspec": {
   "display_name": "Python 3",
   "language": "python",
   "name": "python3"
  },
  "language_info": {
   "codemirror_mode": {
    "name": "ipython",
    "version": 2
   },
   "file_extension": ".py",
   "mimetype": "text/x-python",
   "name": "python",
   "nbconvert_exporter": "python",
   "pygments_lexer": "ipython2",
   "version": "2.7.6"
  }
 },
 "nbformat": 4,
 "nbformat_minor": 0
}
